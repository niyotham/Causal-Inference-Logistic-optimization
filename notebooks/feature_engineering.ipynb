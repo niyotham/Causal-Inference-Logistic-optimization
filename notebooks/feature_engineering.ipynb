{
 "cells": [
  {
   "cell_type": "code",
   "execution_count": 1,
   "metadata": {},
   "outputs": [],
   "source": [
    "import sys, os\n",
    "import numpy as np\n",
    "import pandas as pd\n",
    "import matplotlib.pyplot as plt\n",
    "sys.path.append(sys.path.append)\n",
    "import matplotlib\n",
    "matplotlib.style.use('fivethirtyeight')\n",
    "import datetime\n",
    "%matplotlib inline\n",
    "sys.path.insert(0,'../scripts/')\n",
    "from utils import missing_values_table,split_date\n",
    "from data_outlier import Comp_Outlier"
   ]
  },
  {
   "cell_type": "markdown",
   "metadata": {},
   "source": [
    "`Finding the Shortest Route`\n",
    "- You can now make use of the OSMnx package together with the NetworkX package to find the route between two points.\n",
    "> NetworkX is a Python package for the creation, manipulation, and study of the structure, dynamics, and functions of complex networks."
   ]
  },
  {
   "cell_type": "code",
   "execution_count": null,
   "metadata": {},
   "outputs": [
    {
     "ename": "",
     "evalue": "",
     "output_type": "error",
     "traceback": [
      "\u001b[1;31mRunning cells with 'Python 3.9.14 64-bit' requires ipykernel package.\n",
      "\u001b[1;31mRun the following command to install 'ipykernel' into the Python environment. \n",
      "\u001b[1;31mCommand: '/usr/local/bin/python3.9 -m pip install ipykernel -U --user --force-reinstall'"
     ]
    }
   ],
   "source": [
    "import osmnx as ox\n",
    "import networkx as nx\n",
    "G = nx.Graph()"
   ]
  },
  {
   "cell_type": "code",
   "execution_count": 1,
   "metadata": {},
   "outputs": [
    {
     "ename": "SyntaxError",
     "evalue": "invalid syntax (1384686765.py, line 2)",
     "output_type": "error",
     "traceback": [
      "\u001b[0;36m  Cell \u001b[0;32mIn [1], line 2\u001b[0;36m\u001b[0m\n\u001b[0;31m    import networkx as nxox.config(log_console=True, use_cache=True)# define the start and end locations in latlng\u001b[0m\n\u001b[0m                           ^\u001b[0m\n\u001b[0;31mSyntaxError\u001b[0m\u001b[0;31m:\u001b[0m invalid syntax\n"
     ]
    }
   ],
   "source": [
    "import osmnx as ox\n",
    "import networkx as nxox.config(log_console=True, use_cache=True)# define the start and end locations in latlng\n",
    "start_latlng = (37.78497,-122.43327)\n",
    "end_latlng = (37.78071,-122.41445)# location where you want to find your route\n",
    "place     = 'San Francisco, California, United States'# find shortest route based on the mode of travel\n",
    "mode      = 'walk'        # 'drive', 'bike', 'walk'# find shortest path based on distance or time\n",
    "optimizer = 'time'        # 'length','time'# create graph from OSM within the boundaries of some \n",
    "# geocodable place(s)\n",
    "graph = ox.graph_from_place(place, network_type = mode)# find the nearest node to the start location\n",
    "orig_node = ox.get_nearest_node(graph, start_latlng)# find the nearest node to the end location\n",
    "dest_node = ox.get_nearest_node(graph, end_latlng)#  find the shortest path\n",
    "shortest_route = nx.shortest_path(graph,\n",
    "                                  orig_node,\n",
    "                                  dest_node,\n",
    "                                  weight=optimizer)\n"
   ]
  }
 ],
 "metadata": {
  "kernelspec": {
   "display_name": "Python 3.9.14 64-bit",
   "language": "python",
   "name": "python3"
  },
  "language_info": {
   "codemirror_mode": {
    "name": "ipython",
    "version": 3
   },
   "file_extension": ".py",
   "mimetype": "text/x-python",
   "name": "python",
   "nbconvert_exporter": "python",
   "pygments_lexer": "ipython3",
   "version": "3.9.14"
  },
  "orig_nbformat": 4,
  "vscode": {
   "interpreter": {
    "hash": "397704579725e15f5c7cb49fe5f0341eb7531c82d19f2c29d197e8b64ab5776b"
   }
  }
 },
 "nbformat": 4,
 "nbformat_minor": 2
}
