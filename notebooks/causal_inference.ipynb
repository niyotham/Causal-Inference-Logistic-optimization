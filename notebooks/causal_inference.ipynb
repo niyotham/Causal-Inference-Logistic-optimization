{
 "cells": [
  {
   "cell_type": "code",
   "execution_count": 50,
   "metadata": {},
   "outputs": [],
   "source": [
    "# ! pip install causalnex"
   ]
  },
  {
   "cell_type": "code",
   "execution_count": 3,
   "metadata": {},
   "outputs": [],
   "source": [
    "import warnings\n",
    "warnings.filterwarnings(\"ignore\")  # silence warnings\n",
    "import pandas as pd\n",
    "from datetime import datetime,date\n",
    "from causalnex.structure import StructureModel\n",
    "from causalnex.plots import plot_structure, NODE_STYLE, EDGE_STYLE\n",
    "from causalnex.network import BayesianNetwork\n",
    "from causalnex.structure.notears import from_pandas\n",
    "from sklearn.cluster import KMeans\n",
    "from sklearn.model_selection import train_test_split\n",
    "from sklearn.preprocessing import Normalizer, MinMaxScaler, StandardScaler\n",
    "\n",
    "from IPython.display import Image\n",
    "import plotly.express as px\n",
    "import pickle"
   ]
  },
  {
   "cell_type": "code",
   "execution_count": 4,
   "metadata": {},
   "outputs": [],
   "source": [
    "import sys\n",
    "sys.path.append(\"../scripts/\")\n",
    "from utils import label_encoder\n",
    "# cleaner = DataCleaner()"
   ]
  },
  {
   "cell_type": "code",
   "execution_count": 8,
   "metadata": {},
   "outputs": [],
   "source": [
    "data  = pd.read_csv('../data/df_merged.csv')\n",
    "# clean_df = pd.read_csv('../data/clean_merged_df.csv')"
   ]
  },
  {
   "cell_type": "code",
   "execution_count": 9,
   "metadata": {},
   "outputs": [],
   "source": [
    "df=data.copy()"
   ]
  },
  {
   "cell_type": "code",
   "execution_count": 19,
   "metadata": {},
   "outputs": [
    {
     "name": "stdout",
     "output_type": "stream",
     "text": [
      "<class 'pandas.core.frame.DataFrame'>\n",
      "RangeIndex: 1555718 entries, 0 to 1555717\n",
      "Data columns (total 22 columns):\n",
      " #   Column                Non-Null Count    Dtype         \n",
      "---  ------                --------------    -----         \n",
      " 0   order_id              1555718 non-null  int64         \n",
      " 1   driver_id             1555718 non-null  int64         \n",
      " 2   driver_action         1555718 non-null  object        \n",
      " 3   lat                   1555718 non-null  float64       \n",
      " 4   lng                   1555718 non-null  float64       \n",
      " 5   Trip Start Time       1555718 non-null  datetime64[ns]\n",
      " 6   Trip End Time         1555718 non-null  datetime64[ns]\n",
      " 7   Date                  1555718 non-null  object        \n",
      " 8   Year                  1555718 non-null  int64         \n",
      " 9   Month                 1555718 non-null  int64         \n",
      " 10  Day                   1555718 non-null  int64         \n",
      " 11  WeekOfYear            1555718 non-null  int64         \n",
      " 12  Day of Week           1555718 non-null  int64         \n",
      " 13  Is Weekend            1555718 non-null  int64         \n",
      " 14  dayofweek             1555718 non-null  object        \n",
      " 15  Duration_Minutes      1555718 non-null  float64       \n",
      " 16  Trip_Origin_lat       1555718 non-null  float64       \n",
      " 17  Trip_Origin_lng       1555718 non-null  float64       \n",
      " 18  Trip_Destination_lat  1555718 non-null  float64       \n",
      " 19  Trip_Destination_lng  1555718 non-null  float64       \n",
      " 20  Distance              1555718 non-null  float64       \n",
      " 21  hour                  1555718 non-null  int64         \n",
      "dtypes: datetime64[ns](2), float64(8), int64(9), object(3)\n",
      "memory usage: 261.1+ MB\n"
     ]
    }
   ],
   "source": [
    "df.info()"
   ]
  },
  {
   "cell_type": "code",
   "execution_count": 11,
   "metadata": {},
   "outputs": [],
   "source": [
    "# convert \"Trip Start Time\" and \"Trip End Time\"  objects into timestamps\n",
    "df[\"Trip Start Time\"] =pd.to_datetime(df[\"Trip Start Time\"])\n",
    "df[\"Trip End Time\"] =pd.to_datetime(df[\"Trip End Time\"])"
   ]
  },
  {
   "cell_type": "code",
   "execution_count": 82,
   "metadata": {},
   "outputs": [],
   "source": [
    "# df.columns"
   ]
  },
  {
   "cell_type": "code",
   "execution_count": 18,
   "metadata": {},
   "outputs": [],
   "source": [
    "df[\"hour\"]=df[\"Trip Start Time\"].apply(lambda x: pd.to_datetime(x).hour)"
   ]
  },
  {
   "cell_type": "code",
   "execution_count": 26,
   "metadata": {},
   "outputs": [
    {
     "data": {
      "text/plain": [
       "1476804"
      ]
     },
     "execution_count": 26,
     "metadata": {},
     "output_type": "execute_result"
    }
   ],
   "source": [
    "# check where trip duration is > 10\n",
    "duration_df=df[df[\"Duration_Minutes\"] >=10]\n",
    "duration_df[\"Duration_Minutes\"].count()"
   ]
  },
  {
   "cell_type": "code",
   "execution_count": 28,
   "metadata": {},
   "outputs": [
    {
     "data": {
      "text/plain": [
       "78914"
      ]
     },
     "execution_count": 28,
     "metadata": {},
     "output_type": "execute_result"
    }
   ],
   "source": [
    "# check where trip duration is > 10\n",
    "duration_df_less_10=df[df[\"Duration_Minutes\"] < 10]\n",
    "duration_df_less_10[\"Duration_Minutes\"].count()"
   ]
  },
  {
   "cell_type": "code",
   "execution_count": 29,
   "metadata": {},
   "outputs": [],
   "source": [
    "df[\"fulfilled\"] = (df[\"driver_action\"] == \"accepted\") & (df[\"Duration_Minutes\"] >=10)"
   ]
  },
  {
   "cell_type": "code",
   "execution_count": 59,
   "metadata": {},
   "outputs": [],
   "source": [
    "# !  pip install plotly==5.10.0"
   ]
  },
  {
   "cell_type": "markdown",
   "metadata": {},
   "source": [
    "` Label encode non numeric features`"
   ]
  },
  {
   "cell_type": "code",
   "execution_count": 31,
   "metadata": {},
   "outputs": [
    {
     "data": {
      "text/html": [
       "<div>\n",
       "<style scoped>\n",
       "    .dataframe tbody tr th:only-of-type {\n",
       "        vertical-align: middle;\n",
       "    }\n",
       "\n",
       "    .dataframe tbody tr th {\n",
       "        vertical-align: top;\n",
       "    }\n",
       "\n",
       "    .dataframe thead th {\n",
       "        text-align: right;\n",
       "    }\n",
       "</style>\n",
       "<table border=\"1\" class=\"dataframe\">\n",
       "  <thead>\n",
       "    <tr style=\"text-align: right;\">\n",
       "      <th></th>\n",
       "      <th>order_id</th>\n",
       "      <th>driver_id</th>\n",
       "      <th>driver_action</th>\n",
       "      <th>lat</th>\n",
       "      <th>lng</th>\n",
       "      <th>Trip Start Time</th>\n",
       "      <th>Trip End Time</th>\n",
       "      <th>Date</th>\n",
       "      <th>Year</th>\n",
       "      <th>Month</th>\n",
       "      <th>...</th>\n",
       "      <th>Is Weekend</th>\n",
       "      <th>dayofweek</th>\n",
       "      <th>Duration_Minutes</th>\n",
       "      <th>Trip_Origin_lat</th>\n",
       "      <th>Trip_Origin_lng</th>\n",
       "      <th>Trip_Destination_lat</th>\n",
       "      <th>Trip_Destination_lng</th>\n",
       "      <th>Distance</th>\n",
       "      <th>hour</th>\n",
       "      <th>fulfilled</th>\n",
       "    </tr>\n",
       "  </thead>\n",
       "  <tbody>\n",
       "    <tr>\n",
       "      <th>0</th>\n",
       "      <td>392001</td>\n",
       "      <td>243828</td>\n",
       "      <td>0</td>\n",
       "      <td>6.602207</td>\n",
       "      <td>3.270465</td>\n",
       "      <td>275</td>\n",
       "      <td>123</td>\n",
       "      <td>123</td>\n",
       "      <td>2021</td>\n",
       "      <td>7</td>\n",
       "      <td>...</td>\n",
       "      <td>0</td>\n",
       "      <td>4</td>\n",
       "      <td>4.0</td>\n",
       "      <td>6.601042</td>\n",
       "      <td>3.276634</td>\n",
       "      <td>6.450107</td>\n",
       "      <td>3.391615</td>\n",
       "      <td>20.984319</td>\n",
       "      <td>9</td>\n",
       "      <td>0</td>\n",
       "    </tr>\n",
       "    <tr>\n",
       "      <th>1</th>\n",
       "      <td>392001</td>\n",
       "      <td>243588</td>\n",
       "      <td>1</td>\n",
       "      <td>6.592097</td>\n",
       "      <td>3.287445</td>\n",
       "      <td>275</td>\n",
       "      <td>123</td>\n",
       "      <td>123</td>\n",
       "      <td>2021</td>\n",
       "      <td>7</td>\n",
       "      <td>...</td>\n",
       "      <td>0</td>\n",
       "      <td>4</td>\n",
       "      <td>4.0</td>\n",
       "      <td>6.601042</td>\n",
       "      <td>3.276634</td>\n",
       "      <td>6.450107</td>\n",
       "      <td>3.391615</td>\n",
       "      <td>20.984319</td>\n",
       "      <td>9</td>\n",
       "      <td>0</td>\n",
       "    </tr>\n",
       "    <tr>\n",
       "      <th>2</th>\n",
       "      <td>392001</td>\n",
       "      <td>243830</td>\n",
       "      <td>1</td>\n",
       "      <td>6.596133</td>\n",
       "      <td>3.281784</td>\n",
       "      <td>275</td>\n",
       "      <td>123</td>\n",
       "      <td>123</td>\n",
       "      <td>2021</td>\n",
       "      <td>7</td>\n",
       "      <td>...</td>\n",
       "      <td>0</td>\n",
       "      <td>4</td>\n",
       "      <td>4.0</td>\n",
       "      <td>6.601042</td>\n",
       "      <td>3.276634</td>\n",
       "      <td>6.450107</td>\n",
       "      <td>3.391615</td>\n",
       "      <td>20.984319</td>\n",
       "      <td>9</td>\n",
       "      <td>0</td>\n",
       "    </tr>\n",
       "    <tr>\n",
       "      <th>3</th>\n",
       "      <td>392001</td>\n",
       "      <td>243539</td>\n",
       "      <td>1</td>\n",
       "      <td>6.596142</td>\n",
       "      <td>3.280526</td>\n",
       "      <td>275</td>\n",
       "      <td>123</td>\n",
       "      <td>123</td>\n",
       "      <td>2021</td>\n",
       "      <td>7</td>\n",
       "      <td>...</td>\n",
       "      <td>0</td>\n",
       "      <td>4</td>\n",
       "      <td>4.0</td>\n",
       "      <td>6.601042</td>\n",
       "      <td>3.276634</td>\n",
       "      <td>6.450107</td>\n",
       "      <td>3.391615</td>\n",
       "      <td>20.984319</td>\n",
       "      <td>9</td>\n",
       "      <td>0</td>\n",
       "    </tr>\n",
       "    <tr>\n",
       "      <th>4</th>\n",
       "      <td>392001</td>\n",
       "      <td>171653</td>\n",
       "      <td>1</td>\n",
       "      <td>6.609232</td>\n",
       "      <td>3.288800</td>\n",
       "      <td>275</td>\n",
       "      <td>123</td>\n",
       "      <td>123</td>\n",
       "      <td>2021</td>\n",
       "      <td>7</td>\n",
       "      <td>...</td>\n",
       "      <td>0</td>\n",
       "      <td>4</td>\n",
       "      <td>4.0</td>\n",
       "      <td>6.601042</td>\n",
       "      <td>3.276634</td>\n",
       "      <td>6.450107</td>\n",
       "      <td>3.391615</td>\n",
       "      <td>20.984319</td>\n",
       "      <td>9</td>\n",
       "      <td>0</td>\n",
       "    </tr>\n",
       "    <tr>\n",
       "      <th>...</th>\n",
       "      <td>...</td>\n",
       "      <td>...</td>\n",
       "      <td>...</td>\n",
       "      <td>...</td>\n",
       "      <td>...</td>\n",
       "      <td>...</td>\n",
       "      <td>...</td>\n",
       "      <td>...</td>\n",
       "      <td>...</td>\n",
       "      <td>...</td>\n",
       "      <td>...</td>\n",
       "      <td>...</td>\n",
       "      <td>...</td>\n",
       "      <td>...</td>\n",
       "      <td>...</td>\n",
       "      <td>...</td>\n",
       "      <td>...</td>\n",
       "      <td>...</td>\n",
       "      <td>...</td>\n",
       "      <td>...</td>\n",
       "      <td>...</td>\n",
       "    </tr>\n",
       "    <tr>\n",
       "      <th>1555713</th>\n",
       "      <td>517948</td>\n",
       "      <td>243774</td>\n",
       "      <td>1</td>\n",
       "      <td>6.469036</td>\n",
       "      <td>3.566877</td>\n",
       "      <td>25150</td>\n",
       "      <td>25133</td>\n",
       "      <td>25133</td>\n",
       "      <td>2021</td>\n",
       "      <td>9</td>\n",
       "      <td>...</td>\n",
       "      <td>0</td>\n",
       "      <td>0</td>\n",
       "      <td>103.0</td>\n",
       "      <td>6.443374</td>\n",
       "      <td>3.552312</td>\n",
       "      <td>6.500608</td>\n",
       "      <td>3.598194</td>\n",
       "      <td>8.112927</td>\n",
       "      <td>11</td>\n",
       "      <td>0</td>\n",
       "    </tr>\n",
       "    <tr>\n",
       "      <th>1555714</th>\n",
       "      <td>517948</td>\n",
       "      <td>245447</td>\n",
       "      <td>1</td>\n",
       "      <td>6.425431</td>\n",
       "      <td>3.527358</td>\n",
       "      <td>25150</td>\n",
       "      <td>25133</td>\n",
       "      <td>25133</td>\n",
       "      <td>2021</td>\n",
       "      <td>9</td>\n",
       "      <td>...</td>\n",
       "      <td>0</td>\n",
       "      <td>0</td>\n",
       "      <td>103.0</td>\n",
       "      <td>6.443374</td>\n",
       "      <td>3.552312</td>\n",
       "      <td>6.500608</td>\n",
       "      <td>3.598194</td>\n",
       "      <td>8.112927</td>\n",
       "      <td>11</td>\n",
       "      <td>0</td>\n",
       "    </tr>\n",
       "    <tr>\n",
       "      <th>1555715</th>\n",
       "      <td>517948</td>\n",
       "      <td>239866</td>\n",
       "      <td>1</td>\n",
       "      <td>6.440013</td>\n",
       "      <td>3.525378</td>\n",
       "      <td>25150</td>\n",
       "      <td>25133</td>\n",
       "      <td>25133</td>\n",
       "      <td>2021</td>\n",
       "      <td>9</td>\n",
       "      <td>...</td>\n",
       "      <td>0</td>\n",
       "      <td>0</td>\n",
       "      <td>103.0</td>\n",
       "      <td>6.443374</td>\n",
       "      <td>3.552312</td>\n",
       "      <td>6.500608</td>\n",
       "      <td>3.598194</td>\n",
       "      <td>8.112927</td>\n",
       "      <td>11</td>\n",
       "      <td>0</td>\n",
       "    </tr>\n",
       "    <tr>\n",
       "      <th>1555716</th>\n",
       "      <td>517948</td>\n",
       "      <td>243774</td>\n",
       "      <td>1</td>\n",
       "      <td>6.469036</td>\n",
       "      <td>3.566877</td>\n",
       "      <td>25150</td>\n",
       "      <td>25133</td>\n",
       "      <td>25133</td>\n",
       "      <td>2021</td>\n",
       "      <td>9</td>\n",
       "      <td>...</td>\n",
       "      <td>0</td>\n",
       "      <td>0</td>\n",
       "      <td>103.0</td>\n",
       "      <td>6.443374</td>\n",
       "      <td>3.552312</td>\n",
       "      <td>6.500608</td>\n",
       "      <td>3.598194</td>\n",
       "      <td>8.112927</td>\n",
       "      <td>11</td>\n",
       "      <td>0</td>\n",
       "    </tr>\n",
       "    <tr>\n",
       "      <th>1555717</th>\n",
       "      <td>517948</td>\n",
       "      <td>244170</td>\n",
       "      <td>1</td>\n",
       "      <td>6.469390</td>\n",
       "      <td>3.572079</td>\n",
       "      <td>25150</td>\n",
       "      <td>25133</td>\n",
       "      <td>25133</td>\n",
       "      <td>2021</td>\n",
       "      <td>9</td>\n",
       "      <td>...</td>\n",
       "      <td>0</td>\n",
       "      <td>0</td>\n",
       "      <td>103.0</td>\n",
       "      <td>6.443374</td>\n",
       "      <td>3.552312</td>\n",
       "      <td>6.500608</td>\n",
       "      <td>3.598194</td>\n",
       "      <td>8.112927</td>\n",
       "      <td>11</td>\n",
       "      <td>0</td>\n",
       "    </tr>\n",
       "  </tbody>\n",
       "</table>\n",
       "<p>1555718 rows × 23 columns</p>\n",
       "</div>"
      ],
      "text/plain": [
       "         order_id  driver_id  driver_action       lat       lng  \\\n",
       "0          392001     243828              0  6.602207  3.270465   \n",
       "1          392001     243588              1  6.592097  3.287445   \n",
       "2          392001     243830              1  6.596133  3.281784   \n",
       "3          392001     243539              1  6.596142  3.280526   \n",
       "4          392001     171653              1  6.609232  3.288800   \n",
       "...           ...        ...            ...       ...       ...   \n",
       "1555713    517948     243774              1  6.469036  3.566877   \n",
       "1555714    517948     245447              1  6.425431  3.527358   \n",
       "1555715    517948     239866              1  6.440013  3.525378   \n",
       "1555716    517948     243774              1  6.469036  3.566877   \n",
       "1555717    517948     244170              1  6.469390  3.572079   \n",
       "\n",
       "         Trip Start Time  Trip End Time   Date  Year  Month  ...  Is Weekend  \\\n",
       "0                    275            123    123  2021      7  ...           0   \n",
       "1                    275            123    123  2021      7  ...           0   \n",
       "2                    275            123    123  2021      7  ...           0   \n",
       "3                    275            123    123  2021      7  ...           0   \n",
       "4                    275            123    123  2021      7  ...           0   \n",
       "...                  ...            ...    ...   ...    ...  ...         ...   \n",
       "1555713            25150          25133  25133  2021      9  ...           0   \n",
       "1555714            25150          25133  25133  2021      9  ...           0   \n",
       "1555715            25150          25133  25133  2021      9  ...           0   \n",
       "1555716            25150          25133  25133  2021      9  ...           0   \n",
       "1555717            25150          25133  25133  2021      9  ...           0   \n",
       "\n",
       "         dayofweek  Duration_Minutes  Trip_Origin_lat  Trip_Origin_lng  \\\n",
       "0                4               4.0         6.601042         3.276634   \n",
       "1                4               4.0         6.601042         3.276634   \n",
       "2                4               4.0         6.601042         3.276634   \n",
       "3                4               4.0         6.601042         3.276634   \n",
       "4                4               4.0         6.601042         3.276634   \n",
       "...            ...               ...              ...              ...   \n",
       "1555713          0             103.0         6.443374         3.552312   \n",
       "1555714          0             103.0         6.443374         3.552312   \n",
       "1555715          0             103.0         6.443374         3.552312   \n",
       "1555716          0             103.0         6.443374         3.552312   \n",
       "1555717          0             103.0         6.443374         3.552312   \n",
       "\n",
       "         Trip_Destination_lat  Trip_Destination_lng   Distance  hour  \\\n",
       "0                    6.450107              3.391615  20.984319     9   \n",
       "1                    6.450107              3.391615  20.984319     9   \n",
       "2                    6.450107              3.391615  20.984319     9   \n",
       "3                    6.450107              3.391615  20.984319     9   \n",
       "4                    6.450107              3.391615  20.984319     9   \n",
       "...                       ...                   ...        ...   ...   \n",
       "1555713              6.500608              3.598194   8.112927    11   \n",
       "1555714              6.500608              3.598194   8.112927    11   \n",
       "1555715              6.500608              3.598194   8.112927    11   \n",
       "1555716              6.500608              3.598194   8.112927    11   \n",
       "1555717              6.500608              3.598194   8.112927    11   \n",
       "\n",
       "         fulfilled  \n",
       "0                0  \n",
       "1                0  \n",
       "2                0  \n",
       "3                0  \n",
       "4                0  \n",
       "...            ...  \n",
       "1555713          0  \n",
       "1555714          0  \n",
       "1555715          0  \n",
       "1555716          0  \n",
       "1555717          0  \n",
       "\n",
       "[1555718 rows x 23 columns]"
      ]
     },
     "execution_count": 31,
     "metadata": {},
     "output_type": "execute_result"
    }
   ],
   "source": [
    "label_encoder(df)"
   ]
  },
  {
   "cell_type": "markdown",
   "metadata": {},
   "source": [
    "` Visualizations`"
   ]
  },
  {
   "cell_type": "markdown",
   "metadata": {},
   "source": [
    "`Plot the origin trip of 500 samples`"
   ]
  },
  {
   "cell_type": "code",
   "execution_count": 58,
   "metadata": {},
   "outputs": [],
   "source": [
    "df.to_csv('../data/df_merged_clean.csv',index=False)"
   ]
  },
  {
   "cell_type": "code",
   "execution_count": 7,
   "metadata": {},
   "outputs": [],
   "source": [
    "df= pd.read_csv('../data/df_merged_clean.csv')"
   ]
  },
  {
   "cell_type": "code",
   "execution_count": 81,
   "metadata": {},
   "outputs": [],
   "source": [
    "# df.head(1)"
   ]
  },
  {
   "cell_type": "code",
   "execution_count": 8,
   "metadata": {},
   "outputs": [],
   "source": [
    "df_trip_origin=(df.groupby(['Trip_Origin_lng','Trip_Origin_lat'],as_index=False).agg(Count=('order_id', 'count'))).sort_values(by='Count',ascending=False)\n"
   ]
  },
  {
   "cell_type": "code",
   "execution_count": 10,
   "metadata": {},
   "outputs": [
    {
     "data": {
      "text/html": [
       "<div>\n",
       "<style scoped>\n",
       "    .dataframe tbody tr th:only-of-type {\n",
       "        vertical-align: middle;\n",
       "    }\n",
       "\n",
       "    .dataframe tbody tr th {\n",
       "        vertical-align: top;\n",
       "    }\n",
       "\n",
       "    .dataframe thead th {\n",
       "        text-align: right;\n",
       "    }\n",
       "</style>\n",
       "<table border=\"1\" class=\"dataframe\">\n",
       "  <thead>\n",
       "    <tr style=\"text-align: right;\">\n",
       "      <th></th>\n",
       "      <th>index</th>\n",
       "      <th>Trip_Origin_lng</th>\n",
       "      <th>Trip_Origin_lat</th>\n",
       "      <th>Count</th>\n",
       "    </tr>\n",
       "  </thead>\n",
       "  <tbody>\n",
       "    <tr>\n",
       "      <th>0</th>\n",
       "      <td>7210</td>\n",
       "      <td>3.368881</td>\n",
       "      <td>6.52744</td>\n",
       "      <td>7080</td>\n",
       "    </tr>\n",
       "  </tbody>\n",
       "</table>\n",
       "</div>"
      ],
      "text/plain": [
       "   index  Trip_Origin_lng  Trip_Origin_lat  Count\n",
       "0   7210         3.368881          6.52744   7080"
      ]
     },
     "execution_count": 10,
     "metadata": {},
     "output_type": "execute_result"
    }
   ],
   "source": [
    "df_trip_origin.reset_index().head(1)"
   ]
  },
  {
   "cell_type": "code",
   "execution_count": 12,
   "metadata": {},
   "outputs": [],
   "source": [
    "# ! pip install --upgrade nbformat"
   ]
  },
  {
   "cell_type": "code",
   "execution_count": 11,
   "metadata": {},
   "outputs": [
    {
     "data": {
      "application/vnd.plotly.v1+json": {
       "config": {
        "plotlyServerURL": "https://plot.ly"
       },
       "data": [
        {
         "hovertemplate": "<b>%{hovertext}</b><br><br>Count=%{marker.color}<br>Trip_Origin_lat=%{lat}<br>Trip_Origin_lng=%{lon}<extra></extra>",
         "hovertext": [
          7080,
          6007,
          5368,
          5206,
          4591,
          3896,
          3386,
          3244,
          3231,
          2964,
          2932,
          2903,
          2899,
          2876,
          2810,
          2733,
          2692,
          2685,
          2605,
          2460,
          2338,
          2304,
          2287,
          2253,
          2158,
          2123,
          2083,
          2054,
          1965,
          1957,
          1929,
          1922,
          1918,
          1887,
          1884,
          1876,
          1868,
          1858,
          1853,
          1839,
          1827,
          1818,
          1814,
          1793,
          1766,
          1751,
          1741,
          1727,
          1720,
          1711,
          1698,
          1693,
          1667,
          1633,
          1620,
          1614,
          1614,
          1551,
          1526,
          1507,
          1496,
          1496,
          1483,
          1482,
          1468,
          1458,
          1454,
          1445,
          1435,
          1431,
          1423,
          1417,
          1415,
          1411,
          1410,
          1407,
          1405,
          1404,
          1393,
          1389,
          1383,
          1366,
          1353,
          1352,
          1351,
          1346,
          1333,
          1328,
          1328,
          1326,
          1322,
          1316,
          1305,
          1304,
          1294,
          1290,
          1287,
          1275,
          1275,
          1270
         ],
         "lat": [
          6.527439999999999,
          6.5430189,
          6.5308398,
          6.6137933,
          6.5365443,
          6.551892199999999,
          6.448605799999998,
          6.560048600000001,
          6.581332699999999,
          6.544459784931964,
          6.544699294456124,
          6.534862299999999,
          6.610283,
          6.539808699999999,
          6.432360999999999,
          6.59648,
          6.547438999999999,
          6.634375899999999,
          6.511822899999999,
          6.537606900000002,
          6.559410199999999,
          6.5366507,
          6.5754354,
          6.5530741,
          6.612858,
          6.56373680104089,
          6.5430573988096,
          6.593477199999999,
          6.5962459,
          6.537133799999999,
          6.531492000000001,
          6.437225499999999,
          6.443280157255331,
          6.5637653,
          6.519873999999999,
          6.456484399999999,
          6.558242899999999,
          6.557186340233455,
          6.5963213,
          6.5952581,
          6.593754199999999,
          6.5496306,
          6.595438652933158,
          6.504032,
          6.549770499999998,
          6.592414172074737,
          6.4357545,
          6.5514449,
          6.5269248,
          6.5089257,
          6.5489883,
          6.4849603,
          6.5326379,
          6.589158599999998,
          6.5950083,
          6.516206499999999,
          6.5316798,
          6.535932325474897,
          6.5243265,
          6.623157529797675,
          6.5897842,
          6.556262400000001,
          6.527353357500267,
          6.430837599999999,
          6.5370599,
          6.4358466,
          6.501150199999999,
          6.556743600000001,
          6.589068799999999,
          6.5036158,
          6.4283803,
          6.439023799999999,
          6.577852999999999,
          6.56396439999999,
          6.5398356,
          6.4286308,
          6.5310272,
          6.601297000000001,
          6.511726899999999,
          6.5569837,
          6.505433999999999,
          6.593765687456029,
          6.61427957531624,
          6.5176113,
          6.5580124,
          6.5397484,
          6.5377541,
          6.593712843832803,
          6.497595,
          6.56887,
          6.541586000000001,
          6.594301152233904,
          6.4518355,
          6.533086799999999,
          6.511538199999999,
          6.5351124,
          6.5071425723312,
          6.5269573,
          6.5131145,
          6.574892399999999
         ],
         "legendgroup": "",
         "lon": [
          3.3688811,
          3.373886,
          3.3824718,
          3.357997,
          3.3678252,
          3.3601891,
          3.457283599999999,
          3.3718574,
          3.3482914,
          3.3747529487112904,
          3.378347083102489,
          3.3591803,
          3.3458115,
          3.3629528,
          3.4211614,
          3.3482992,
          3.374887,
          3.3724068,
          3.3498781,
          3.3688739,
          3.3610442,
          3.381806,
          3.3916804,
          3.3892737,
          3.3567254,
          3.352571591990028,
          3.3766370230078,
          3.3399977,
          3.3404658,
          3.3813056,
          3.3359385,
          3.4589093,
          3.481275586546779,
          3.3685757,
          3.3699424,
          3.4101184,
          3.3828702,
          3.3839212324255925,
          3.3412015,
          3.3521434,
          3.3398694,
          3.3703507,
          3.3402635862085126,
          3.3696113,
          3.3744,
          3.340958507230578,
          3.4516297,
          3.3768451,
          3.3547145,
          3.3702206,
          3.3734772,
          3.3660084,
          3.3939981,
          3.3347402,
          3.3387924,
          3.3739969,
          3.3457433,
          3.3638275427575195,
          3.3782129,
          3.3454486088341184,
          3.3840823,
          3.3475834,
          3.3550616611878463,
          3.4124,
          3.3612898,
          3.451396,
          3.3534454,
          3.362943,
          3.357836199999999,
          3.3318222,
          3.4637313,
          3.4863031,
          3.3676395,
          3.3673221999999896,
          3.3687866,
          3.5155123,
          3.3745148,
          3.3486957,
          3.3562307,
          3.379996,
          3.3668623,
          3.341306060494844,
          3.358353514729604,
          3.3537748,
          3.3696567,
          3.3798625,
          3.3884795,
          3.339637555181981,
          3.383098,
          3.37671,
          3.3584192,
          3.339421417454755,
          3.5137285,
          3.327305599999999,
          3.3421108,
          3.3523659,
          3.3704966334537,
          3.3230009,
          3.3770108,
          3.3749005
         ],
         "marker": {
          "color": [
           7080,
           6007,
           5368,
           5206,
           4591,
           3896,
           3386,
           3244,
           3231,
           2964,
           2932,
           2903,
           2899,
           2876,
           2810,
           2733,
           2692,
           2685,
           2605,
           2460,
           2338,
           2304,
           2287,
           2253,
           2158,
           2123,
           2083,
           2054,
           1965,
           1957,
           1929,
           1922,
           1918,
           1887,
           1884,
           1876,
           1868,
           1858,
           1853,
           1839,
           1827,
           1818,
           1814,
           1793,
           1766,
           1751,
           1741,
           1727,
           1720,
           1711,
           1698,
           1693,
           1667,
           1633,
           1620,
           1614,
           1614,
           1551,
           1526,
           1507,
           1496,
           1496,
           1483,
           1482,
           1468,
           1458,
           1454,
           1445,
           1435,
           1431,
           1423,
           1417,
           1415,
           1411,
           1410,
           1407,
           1405,
           1404,
           1393,
           1389,
           1383,
           1366,
           1353,
           1352,
           1351,
           1346,
           1333,
           1328,
           1328,
           1326,
           1322,
           1316,
           1305,
           1304,
           1294,
           1290,
           1287,
           1275,
           1275,
           1270
          ],
          "coloraxis": "coloraxis",
          "size": [
           7080,
           6007,
           5368,
           5206,
           4591,
           3896,
           3386,
           3244,
           3231,
           2964,
           2932,
           2903,
           2899,
           2876,
           2810,
           2733,
           2692,
           2685,
           2605,
           2460,
           2338,
           2304,
           2287,
           2253,
           2158,
           2123,
           2083,
           2054,
           1965,
           1957,
           1929,
           1922,
           1918,
           1887,
           1884,
           1876,
           1868,
           1858,
           1853,
           1839,
           1827,
           1818,
           1814,
           1793,
           1766,
           1751,
           1741,
           1727,
           1720,
           1711,
           1698,
           1693,
           1667,
           1633,
           1620,
           1614,
           1614,
           1551,
           1526,
           1507,
           1496,
           1496,
           1483,
           1482,
           1468,
           1458,
           1454,
           1445,
           1435,
           1431,
           1423,
           1417,
           1415,
           1411,
           1410,
           1407,
           1405,
           1404,
           1393,
           1389,
           1383,
           1366,
           1353,
           1352,
           1351,
           1346,
           1333,
           1328,
           1328,
           1326,
           1322,
           1316,
           1305,
           1304,
           1294,
           1290,
           1287,
           1275,
           1275,
           1270
          ],
          "sizemode": "area",
          "sizeref": 17.7
         },
         "mode": "markers",
         "name": "",
         "showlegend": false,
         "subplot": "mapbox",
         "type": "scattermapbox"
        }
       ],
       "layout": {
        "coloraxis": {
         "colorbar": {
          "title": {
           "text": "Count"
          }
         },
         "colorscale": [
          [
           0,
           "#0d0887"
          ],
          [
           0.1111111111111111,
           "#46039f"
          ],
          [
           0.2222222222222222,
           "#7201a8"
          ],
          [
           0.3333333333333333,
           "#9c179e"
          ],
          [
           0.4444444444444444,
           "#bd3786"
          ],
          [
           0.5555555555555556,
           "#d8576b"
          ],
          [
           0.6666666666666666,
           "#ed7953"
          ],
          [
           0.7777777777777778,
           "#fb9f3a"
          ],
          [
           0.8888888888888888,
           "#fdca26"
          ],
          [
           1,
           "#f0f921"
          ]
         ]
        },
        "height": 600,
        "legend": {
         "itemsizing": "constant",
         "tracegroupgap": 0
        },
        "mapbox": {
         "center": {
          "lat": 6.539708652456783,
          "lon": 3.3738783955331746
         },
         "domain": {
          "x": [
           0,
           1
          ],
          "y": [
           0,
           1
          ]
         },
         "style": "stamen-terrain",
         "zoom": 8
        },
        "margin": {
         "b": 0,
         "l": 0,
         "r": 0,
         "t": 0
        },
        "template": {
         "data": {
          "bar": [
           {
            "error_x": {
             "color": "#2a3f5f"
            },
            "error_y": {
             "color": "#2a3f5f"
            },
            "marker": {
             "line": {
              "color": "#E5ECF6",
              "width": 0.5
             },
             "pattern": {
              "fillmode": "overlay",
              "size": 10,
              "solidity": 0.2
             }
            },
            "type": "bar"
           }
          ],
          "barpolar": [
           {
            "marker": {
             "line": {
              "color": "#E5ECF6",
              "width": 0.5
             },
             "pattern": {
              "fillmode": "overlay",
              "size": 10,
              "solidity": 0.2
             }
            },
            "type": "barpolar"
           }
          ],
          "carpet": [
           {
            "aaxis": {
             "endlinecolor": "#2a3f5f",
             "gridcolor": "white",
             "linecolor": "white",
             "minorgridcolor": "white",
             "startlinecolor": "#2a3f5f"
            },
            "baxis": {
             "endlinecolor": "#2a3f5f",
             "gridcolor": "white",
             "linecolor": "white",
             "minorgridcolor": "white",
             "startlinecolor": "#2a3f5f"
            },
            "type": "carpet"
           }
          ],
          "choropleth": [
           {
            "colorbar": {
             "outlinewidth": 0,
             "ticks": ""
            },
            "type": "choropleth"
           }
          ],
          "contour": [
           {
            "colorbar": {
             "outlinewidth": 0,
             "ticks": ""
            },
            "colorscale": [
             [
              0,
              "#0d0887"
             ],
             [
              0.1111111111111111,
              "#46039f"
             ],
             [
              0.2222222222222222,
              "#7201a8"
             ],
             [
              0.3333333333333333,
              "#9c179e"
             ],
             [
              0.4444444444444444,
              "#bd3786"
             ],
             [
              0.5555555555555556,
              "#d8576b"
             ],
             [
              0.6666666666666666,
              "#ed7953"
             ],
             [
              0.7777777777777778,
              "#fb9f3a"
             ],
             [
              0.8888888888888888,
              "#fdca26"
             ],
             [
              1,
              "#f0f921"
             ]
            ],
            "type": "contour"
           }
          ],
          "contourcarpet": [
           {
            "colorbar": {
             "outlinewidth": 0,
             "ticks": ""
            },
            "type": "contourcarpet"
           }
          ],
          "heatmap": [
           {
            "colorbar": {
             "outlinewidth": 0,
             "ticks": ""
            },
            "colorscale": [
             [
              0,
              "#0d0887"
             ],
             [
              0.1111111111111111,
              "#46039f"
             ],
             [
              0.2222222222222222,
              "#7201a8"
             ],
             [
              0.3333333333333333,
              "#9c179e"
             ],
             [
              0.4444444444444444,
              "#bd3786"
             ],
             [
              0.5555555555555556,
              "#d8576b"
             ],
             [
              0.6666666666666666,
              "#ed7953"
             ],
             [
              0.7777777777777778,
              "#fb9f3a"
             ],
             [
              0.8888888888888888,
              "#fdca26"
             ],
             [
              1,
              "#f0f921"
             ]
            ],
            "type": "heatmap"
           }
          ],
          "heatmapgl": [
           {
            "colorbar": {
             "outlinewidth": 0,
             "ticks": ""
            },
            "colorscale": [
             [
              0,
              "#0d0887"
             ],
             [
              0.1111111111111111,
              "#46039f"
             ],
             [
              0.2222222222222222,
              "#7201a8"
             ],
             [
              0.3333333333333333,
              "#9c179e"
             ],
             [
              0.4444444444444444,
              "#bd3786"
             ],
             [
              0.5555555555555556,
              "#d8576b"
             ],
             [
              0.6666666666666666,
              "#ed7953"
             ],
             [
              0.7777777777777778,
              "#fb9f3a"
             ],
             [
              0.8888888888888888,
              "#fdca26"
             ],
             [
              1,
              "#f0f921"
             ]
            ],
            "type": "heatmapgl"
           }
          ],
          "histogram": [
           {
            "marker": {
             "pattern": {
              "fillmode": "overlay",
              "size": 10,
              "solidity": 0.2
             }
            },
            "type": "histogram"
           }
          ],
          "histogram2d": [
           {
            "colorbar": {
             "outlinewidth": 0,
             "ticks": ""
            },
            "colorscale": [
             [
              0,
              "#0d0887"
             ],
             [
              0.1111111111111111,
              "#46039f"
             ],
             [
              0.2222222222222222,
              "#7201a8"
             ],
             [
              0.3333333333333333,
              "#9c179e"
             ],
             [
              0.4444444444444444,
              "#bd3786"
             ],
             [
              0.5555555555555556,
              "#d8576b"
             ],
             [
              0.6666666666666666,
              "#ed7953"
             ],
             [
              0.7777777777777778,
              "#fb9f3a"
             ],
             [
              0.8888888888888888,
              "#fdca26"
             ],
             [
              1,
              "#f0f921"
             ]
            ],
            "type": "histogram2d"
           }
          ],
          "histogram2dcontour": [
           {
            "colorbar": {
             "outlinewidth": 0,
             "ticks": ""
            },
            "colorscale": [
             [
              0,
              "#0d0887"
             ],
             [
              0.1111111111111111,
              "#46039f"
             ],
             [
              0.2222222222222222,
              "#7201a8"
             ],
             [
              0.3333333333333333,
              "#9c179e"
             ],
             [
              0.4444444444444444,
              "#bd3786"
             ],
             [
              0.5555555555555556,
              "#d8576b"
             ],
             [
              0.6666666666666666,
              "#ed7953"
             ],
             [
              0.7777777777777778,
              "#fb9f3a"
             ],
             [
              0.8888888888888888,
              "#fdca26"
             ],
             [
              1,
              "#f0f921"
             ]
            ],
            "type": "histogram2dcontour"
           }
          ],
          "mesh3d": [
           {
            "colorbar": {
             "outlinewidth": 0,
             "ticks": ""
            },
            "type": "mesh3d"
           }
          ],
          "parcoords": [
           {
            "line": {
             "colorbar": {
              "outlinewidth": 0,
              "ticks": ""
             }
            },
            "type": "parcoords"
           }
          ],
          "pie": [
           {
            "automargin": true,
            "type": "pie"
           }
          ],
          "scatter": [
           {
            "fillpattern": {
             "fillmode": "overlay",
             "size": 10,
             "solidity": 0.2
            },
            "type": "scatter"
           }
          ],
          "scatter3d": [
           {
            "line": {
             "colorbar": {
              "outlinewidth": 0,
              "ticks": ""
             }
            },
            "marker": {
             "colorbar": {
              "outlinewidth": 0,
              "ticks": ""
             }
            },
            "type": "scatter3d"
           }
          ],
          "scattercarpet": [
           {
            "marker": {
             "colorbar": {
              "outlinewidth": 0,
              "ticks": ""
             }
            },
            "type": "scattercarpet"
           }
          ],
          "scattergeo": [
           {
            "marker": {
             "colorbar": {
              "outlinewidth": 0,
              "ticks": ""
             }
            },
            "type": "scattergeo"
           }
          ],
          "scattergl": [
           {
            "marker": {
             "colorbar": {
              "outlinewidth": 0,
              "ticks": ""
             }
            },
            "type": "scattergl"
           }
          ],
          "scattermapbox": [
           {
            "marker": {
             "colorbar": {
              "outlinewidth": 0,
              "ticks": ""
             }
            },
            "type": "scattermapbox"
           }
          ],
          "scatterpolar": [
           {
            "marker": {
             "colorbar": {
              "outlinewidth": 0,
              "ticks": ""
             }
            },
            "type": "scatterpolar"
           }
          ],
          "scatterpolargl": [
           {
            "marker": {
             "colorbar": {
              "outlinewidth": 0,
              "ticks": ""
             }
            },
            "type": "scatterpolargl"
           }
          ],
          "scatterternary": [
           {
            "marker": {
             "colorbar": {
              "outlinewidth": 0,
              "ticks": ""
             }
            },
            "type": "scatterternary"
           }
          ],
          "surface": [
           {
            "colorbar": {
             "outlinewidth": 0,
             "ticks": ""
            },
            "colorscale": [
             [
              0,
              "#0d0887"
             ],
             [
              0.1111111111111111,
              "#46039f"
             ],
             [
              0.2222222222222222,
              "#7201a8"
             ],
             [
              0.3333333333333333,
              "#9c179e"
             ],
             [
              0.4444444444444444,
              "#bd3786"
             ],
             [
              0.5555555555555556,
              "#d8576b"
             ],
             [
              0.6666666666666666,
              "#ed7953"
             ],
             [
              0.7777777777777778,
              "#fb9f3a"
             ],
             [
              0.8888888888888888,
              "#fdca26"
             ],
             [
              1,
              "#f0f921"
             ]
            ],
            "type": "surface"
           }
          ],
          "table": [
           {
            "cells": {
             "fill": {
              "color": "#EBF0F8"
             },
             "line": {
              "color": "white"
             }
            },
            "header": {
             "fill": {
              "color": "#C8D4E3"
             },
             "line": {
              "color": "white"
             }
            },
            "type": "table"
           }
          ]
         },
         "layout": {
          "annotationdefaults": {
           "arrowcolor": "#2a3f5f",
           "arrowhead": 0,
           "arrowwidth": 1
          },
          "autotypenumbers": "strict",
          "coloraxis": {
           "colorbar": {
            "outlinewidth": 0,
            "ticks": ""
           }
          },
          "colorscale": {
           "diverging": [
            [
             0,
             "#8e0152"
            ],
            [
             0.1,
             "#c51b7d"
            ],
            [
             0.2,
             "#de77ae"
            ],
            [
             0.3,
             "#f1b6da"
            ],
            [
             0.4,
             "#fde0ef"
            ],
            [
             0.5,
             "#f7f7f7"
            ],
            [
             0.6,
             "#e6f5d0"
            ],
            [
             0.7,
             "#b8e186"
            ],
            [
             0.8,
             "#7fbc41"
            ],
            [
             0.9,
             "#4d9221"
            ],
            [
             1,
             "#276419"
            ]
           ],
           "sequential": [
            [
             0,
             "#0d0887"
            ],
            [
             0.1111111111111111,
             "#46039f"
            ],
            [
             0.2222222222222222,
             "#7201a8"
            ],
            [
             0.3333333333333333,
             "#9c179e"
            ],
            [
             0.4444444444444444,
             "#bd3786"
            ],
            [
             0.5555555555555556,
             "#d8576b"
            ],
            [
             0.6666666666666666,
             "#ed7953"
            ],
            [
             0.7777777777777778,
             "#fb9f3a"
            ],
            [
             0.8888888888888888,
             "#fdca26"
            ],
            [
             1,
             "#f0f921"
            ]
           ],
           "sequentialminus": [
            [
             0,
             "#0d0887"
            ],
            [
             0.1111111111111111,
             "#46039f"
            ],
            [
             0.2222222222222222,
             "#7201a8"
            ],
            [
             0.3333333333333333,
             "#9c179e"
            ],
            [
             0.4444444444444444,
             "#bd3786"
            ],
            [
             0.5555555555555556,
             "#d8576b"
            ],
            [
             0.6666666666666666,
             "#ed7953"
            ],
            [
             0.7777777777777778,
             "#fb9f3a"
            ],
            [
             0.8888888888888888,
             "#fdca26"
            ],
            [
             1,
             "#f0f921"
            ]
           ]
          },
          "colorway": [
           "#636efa",
           "#EF553B",
           "#00cc96",
           "#ab63fa",
           "#FFA15A",
           "#19d3f3",
           "#FF6692",
           "#B6E880",
           "#FF97FF",
           "#FECB52"
          ],
          "font": {
           "color": "#2a3f5f"
          },
          "geo": {
           "bgcolor": "white",
           "lakecolor": "white",
           "landcolor": "#E5ECF6",
           "showlakes": true,
           "showland": true,
           "subunitcolor": "white"
          },
          "hoverlabel": {
           "align": "left"
          },
          "hovermode": "closest",
          "mapbox": {
           "style": "light"
          },
          "paper_bgcolor": "white",
          "plot_bgcolor": "#E5ECF6",
          "polar": {
           "angularaxis": {
            "gridcolor": "white",
            "linecolor": "white",
            "ticks": ""
           },
           "bgcolor": "#E5ECF6",
           "radialaxis": {
            "gridcolor": "white",
            "linecolor": "white",
            "ticks": ""
           }
          },
          "scene": {
           "xaxis": {
            "backgroundcolor": "#E5ECF6",
            "gridcolor": "white",
            "gridwidth": 2,
            "linecolor": "white",
            "showbackground": true,
            "ticks": "",
            "zerolinecolor": "white"
           },
           "yaxis": {
            "backgroundcolor": "#E5ECF6",
            "gridcolor": "white",
            "gridwidth": 2,
            "linecolor": "white",
            "showbackground": true,
            "ticks": "",
            "zerolinecolor": "white"
           },
           "zaxis": {
            "backgroundcolor": "#E5ECF6",
            "gridcolor": "white",
            "gridwidth": 2,
            "linecolor": "white",
            "showbackground": true,
            "ticks": "",
            "zerolinecolor": "white"
           }
          },
          "shapedefaults": {
           "line": {
            "color": "#2a3f5f"
           }
          },
          "ternary": {
           "aaxis": {
            "gridcolor": "white",
            "linecolor": "white",
            "ticks": ""
           },
           "baxis": {
            "gridcolor": "white",
            "linecolor": "white",
            "ticks": ""
           },
           "bgcolor": "#E5ECF6",
           "caxis": {
            "gridcolor": "white",
            "linecolor": "white",
            "ticks": ""
           }
          },
          "title": {
           "x": 0.05
          },
          "xaxis": {
           "automargin": true,
           "gridcolor": "white",
           "linecolor": "white",
           "ticks": "",
           "title": {
            "standoff": 15
           },
           "zerolinecolor": "white",
           "zerolinewidth": 2
          },
          "yaxis": {
           "automargin": true,
           "gridcolor": "white",
           "linecolor": "white",
           "ticks": "",
           "title": {
            "standoff": 15
           },
           "zerolinecolor": "white",
           "zerolinewidth": 2
          }
         }
        }
       }
      }
     },
     "metadata": {},
     "output_type": "display_data"
    }
   ],
   "source": [
    "\n",
    "fig = px.scatter_mapbox(df_trip_origin.head(100),lat='Trip_Origin_lat',\n",
    "                lon='Trip_Origin_lng',\n",
    "                 hover_name=\"Count\",\n",
    "                 color=\"Count\",\n",
    "                 height=600,size=\"Count\")\n",
    "\n",
    "fig.update_layout(mapbox_style=\"stamen-terrain\")\n",
    "fig.update_layout(margin={\"r\":0,\"t\":0,\"l\":0,\"b\":0})\n",
    "\n",
    "fig.show()"
   ]
  },
  {
   "cell_type": "markdown",
   "metadata": {},
   "source": [
    "`Plot the destination trips of 500 samples`"
   ]
  },
  {
   "cell_type": "code",
   "execution_count": 14,
   "metadata": {},
   "outputs": [],
   "source": [
    "df_trip_dest=(df.groupby(['Trip_Destination_lng','Trip_Destination_lat'],as_index=False).agg(Count=('order_id', 'count'))).sort_values(by='Count',ascending=False)"
   ]
  },
  {
   "cell_type": "code",
   "execution_count": 17,
   "metadata": {},
   "outputs": [
    {
     "data": {
      "application/vnd.plotly.v1+json": {
       "config": {
        "plotlyServerURL": "https://plot.ly"
       },
       "data": [
        {
         "hovertemplate": "<b>%{hovertext}</b><br><br>Count=%{marker.color}<br>Trip_Destination_lat=%{lat}<br>Trip_Destination_lng=%{lon}<extra></extra>",
         "hovertext": [
          4168,
          3360,
          2922,
          2617,
          2130,
          2129,
          2100,
          1987,
          1962,
          1861,
          1859,
          1837,
          1833,
          1815,
          1805,
          1766,
          1766,
          1753,
          1749,
          1698,
          1661,
          1661,
          1649,
          1619,
          1614,
          1609,
          1604,
          1571,
          1533,
          1504,
          1501,
          1465,
          1461,
          1458,
          1454,
          1416,
          1394,
          1391,
          1382,
          1333,
          1317,
          1303,
          1300,
          1298,
          1297,
          1290,
          1286,
          1285,
          1277,
          1267,
          1263,
          1262,
          1260,
          1250,
          1235,
          1234,
          1200,
          1195,
          1180,
          1174,
          1174,
          1174,
          1169,
          1160,
          1158,
          1150,
          1144,
          1133,
          1132,
          1129,
          1128,
          1127,
          1123,
          1121,
          1115,
          1115,
          1108,
          1100,
          1099,
          1086,
          1083,
          1082,
          1081,
          1080,
          1079,
          1065,
          1059,
          1052,
          1050,
          1046,
          1031,
          1030,
          1025,
          1023,
          1011,
          1011,
          1005,
          1001,
          1000,
          1000,
          1000,
          999,
          999,
          999,
          993,
          992,
          991,
          990,
          989,
          984,
          980,
          978,
          971,
          969,
          969,
          963,
          958,
          953,
          950,
          946,
          941,
          939,
          936,
          936,
          934,
          933,
          933,
          927,
          926,
          925,
          921,
          919,
          916,
          914,
          913,
          910,
          908,
          900,
          892,
          889,
          889,
          886,
          886,
          881,
          881,
          879,
          875,
          875,
          873,
          872,
          872,
          872,
          872,
          870,
          864,
          863,
          857,
          851,
          835,
          834,
          834,
          833,
          833,
          828,
          827,
          822,
          820,
          815,
          812,
          811,
          810,
          808,
          806,
          805,
          802,
          800,
          800,
          799,
          796,
          790,
          787,
          786,
          779,
          777,
          775,
          769,
          767,
          764,
          759,
          758,
          758,
          750,
          750,
          750,
          750,
          747,
          747,
          746,
          746,
          744,
          743,
          742,
          741,
          740,
          739,
          739,
          738,
          738,
          737,
          736,
          735,
          735,
          734,
          732,
          731,
          731,
          727,
          726,
          724,
          721,
          720,
          719,
          717,
          717,
          717,
          715,
          709,
          706,
          704,
          704,
          702,
          702,
          702,
          700,
          700,
          700,
          700,
          699,
          695,
          695,
          695,
          686,
          684,
          683,
          678,
          677,
          673,
          673,
          672,
          671,
          671,
          670,
          668,
          668,
          668,
          667,
          666,
          665,
          664,
          664,
          663,
          661,
          660,
          660,
          657,
          657,
          656,
          655,
          655,
          653,
          651,
          651,
          650,
          650,
          650,
          650,
          650,
          649,
          649,
          646,
          644,
          643,
          639,
          638,
          636,
          635,
          633,
          632,
          631,
          629,
          629,
          627,
          627,
          626,
          626,
          625,
          622,
          622,
          622,
          621,
          621,
          621,
          620,
          618,
          617,
          616,
          616,
          614,
          613,
          613,
          613,
          613,
          613,
          612,
          611,
          611,
          611,
          610,
          610,
          610,
          610,
          609,
          609,
          608,
          606,
          605,
          604,
          604,
          601,
          601,
          600,
          600,
          600,
          600,
          598,
          597,
          596,
          596,
          595,
          595,
          594,
          594,
          592,
          591,
          590,
          590,
          587,
          587,
          586,
          585,
          585,
          585,
          585,
          584,
          584,
          582,
          581,
          581,
          580,
          579,
          578,
          578,
          578,
          578,
          576,
          576,
          576,
          574,
          573,
          573,
          572,
          572,
          572,
          571,
          570,
          569,
          568,
          568,
          568,
          568,
          567,
          567,
          566,
          566,
          565,
          564,
          564,
          564,
          564,
          564,
          563,
          562,
          562,
          561,
          561,
          561,
          561,
          560,
          559,
          559,
          559,
          558,
          558,
          556,
          556,
          555,
          554,
          554,
          551,
          550,
          550,
          550,
          550,
          550,
          550,
          550,
          549,
          549,
          547,
          544,
          544,
          544,
          543,
          543,
          542,
          541,
          541,
          541,
          540,
          540,
          539,
          537,
          537,
          536,
          534,
          534,
          533,
          532,
          532,
          532,
          531,
          530,
          530,
          530,
          529,
          528,
          528,
          528,
          527,
          527,
          526,
          525,
          524,
          524,
          523,
          523,
          523,
          522,
          522,
          520,
          519,
          518,
          517,
          516,
          515,
          514,
          513,
          512,
          511,
          510,
          510,
          509,
          508,
          508,
          508,
          507,
          507,
          505,
          505,
          505,
          504,
          504,
          502,
          500,
          500,
          500,
          500,
          500,
          498,
          497,
          496,
          496,
          496,
          496,
          494,
          494,
          494,
          493,
          492,
          490
         ],
         "lat": [
          6.4830932,
          6.509783618255763,
          6.5755574,
          6.5247343,
          6.534642100000001,
          6.6462896,
          6.5616377,
          6.468055899999999,
          6.493897599999999,
          6.5882926,
          6.455391343655,
          6.557186340233455,
          6.4933421,
          6.620054,
          6.510129700000001,
          6.528714999999999,
          6.562334799999999,
          6.5570274,
          6.5837939,
          6.589772099999998,
          6.5764029,
          6.5176113,
          6.6346343,
          6.4567308,
          6.5944895,
          6.5817586,
          6.5591688,
          6.569080899999999,
          6.614112314342154,
          6.519203800000001,
          6.484577,
          6.4854634,
          6.527439999999999,
          6.5182052,
          6.445309000000001,
          6.517952699999999,
          6.533545599999999,
          6.681633000000001,
          6.5936172,
          6.466440289772207,
          6.565546138463566,
          6.5802324,
          6.6009908,
          6.509018999999999,
          6.5747138,
          6.665252010989589,
          6.5950808,
          6.5278033,
          6.4452713,
          6.5363058,
          6.4277236,
          6.5427035,
          6.4808198,
          6.533333,
          6.4280411,
          6.436382900000002,
          6.5301665,
          6.4940151223618,
          6.61427957531624,
          6.5232682,
          6.529199299999999,
          6.5113732,
          6.459066399999999,
          6.5288033,
          6.5559288,
          6.5536484,
          6.497595,
          6.615431099999999,
          6.537495799999999,
          6.505879999999999,
          6.511670199999999,
          6.520944799999999,
          6.565792598098833,
          6.627631000000001,
          6.5742119,
          6.6373982,
          6.5274112,
          6.487230599999999,
          6.4324992,
          6.6355536,
          6.452345299999999,
          6.497139,
          6.499672558519553,
          6.525436318249341,
          6.576670399999998,
          6.446488700000001,
          6.50662,
          6.448969300000001,
          6.633221400000001,
          6.6388304,
          6.5534478,
          6.5203959447899,
          6.425512299999999,
          6.5479287,
          6.577228499999999,
          6.6417587,
          6.5551849,
          6.636995100000001,
          6.510320599999999,
          6.534302100000001,
          6.6031644,
          6.5561471,
          6.453362199999999,
          6.5977579,
          6.6334908,
          6.4927796,
          6.575368800000001,
          6.5393288,
          6.6191071,
          6.5316798,
          6.4985262111755215,
          6.643328599999999,
          6.575509800000001,
          6.663405399999999,
          6.5331956,
          6.621092399999999,
          6.5534341,
          6.5375242,
          6.5948157,
          6.6086486,
          6.607455900000001,
          6.455619200000001,
          6.510954,
          6.5555619,
          6.601762900000001,
          6.4943561,
          6.5528236,
          6.454815099999999,
          6.4416112,
          6.5164803,
          6.4879602,
          6.5226411,
          6.5271719,
          6.6070353,
          6.5848366,
          6.5326118,
          6.601837700000001,
          6.499988500000001,
          6.6372793,
          6.5966455,
          6.601838,
          6.5610632,
          6.595560799999999,
          6.4862582,
          6.4476691,
          6.6104014,
          6.5145718,
          6.5825254,
          6.526539986959217,
          6.5050237,
          6.446528,
          6.4897566,
          6.517932999999999,
          6.5498456,
          6.5043958318538255,
          6.570428499999999,
          6.437225100000001,
          6.482912012738394,
          6.4286308,
          6.6195945,
          6.56907381171404,
          6.616988699999999,
          6.433850500000001,
          6.601097300000002,
          6.533477299999999,
          6.637488900000001,
          6.426475,
          6.534862299999999,
          6.4544541,
          6.443793299999999,
          6.4575098,
          6.46034,
          6.565827960772,
          6.638061200000002,
          6.4457364,
          6.4788294,
          6.6530517,
          6.5468993,
          6.471944399999999,
          6.5864146,
          6.5337412749281,
          6.589158599999998,
          6.4390214,
          6.5398559,
          6.455469,
          6.44645,
          6.530922881527976,
          6.564241474975411,
          6.5470446,
          6.4488521,
          6.5788058,
          6.5708381,
          6.592956300000001,
          6.610085799999999,
          6.5651987,
          6.598168799999999,
          6.651496,
          6.562457899999999,
          6.443270699999998,
          6.513965,
          6.5923239,
          6.614938334736999,
          6.5818185,
          6.6043378,
          6.592414172074737,
          6.5197276,
          6.455389297503809,
          6.5596427,
          6.534854200000001,
          6.555843899999999,
          6.6321353,
          6.5748109694553,
          6.456602500000001,
          6.5274033,
          6.524379600000001,
          6.4745421,
          6.4239727,
          6.505151799999999,
          6.4866171,
          6.602170999999999,
          6.5373357,
          6.446667700000001,
          6.6001184,
          6.531747699999999,
          6.5499443,
          6.587373800000001,
          6.4922341,
          6.4859205,
          6.6054026,
          6.5064005,
          6.499737499999999,
          6.5191823,
          6.599830100000001,
          6.614483900000001,
          6.610092223702155,
          6.6411041,
          6.536990951077762,
          6.5095093,
          6.4523732,
          6.578288,
          6.5882299,
          6.5119002,
          6.607328799999999,
          6.6198146,
          6.6070099,
          6.5854272,
          6.627118500000001,
          6.605016177864696,
          6.586165599999999,
          6.586466000000001,
          6.6071521,
          6.515820199999999,
          6.641301694332286,
          6.599708799999999,
          6.4972951,
          6.5866329,
          6.591949,
          6.5142371664666,
          6.6471621,
          6.597546143320209,
          6.6485471,
          6.623062200000001,
          6.4484247810924,
          6.4261306,
          6.427406800000001,
          6.6178392,
          6.6604841,
          6.593657799999999,
          6.7121941,
          6.4892992,
          6.5176443,
          6.586784199999999,
          6.565786099999987,
          6.532734900000016,
          6.5898827,
          6.645747999999999,
          6.4549574,
          6.606869499999999,
          6.4261268,
          6.441131999999999,
          6.441857999999999,
          6.586754399999999,
          6.666591599999999,
          6.6261041,
          6.642753000000001,
          6.4680801,
          6.457684299999999,
          6.5070093,
          6.5311159,
          6.4288421,
          6.5625237,
          6.5342866,
          6.4947693,
          6.4316797,
          6.5878061,
          6.5618703,
          6.556604800000001,
          6.578879799999999,
          6.4598571,
          6.6673321,
          6.494799299999999,
          6.5445606,
          6.646020999999999,
          6.595564474190391,
          6.5399995,
          6.508324099999999,
          6.568415799999999,
          6.488669900000001,
          6.574876810787106,
          6.552872999999999,
          6.673532599999999,
          6.4489745,
          6.5749797,
          6.529935699999999,
          6.670122900000001,
          6.6348223,
          6.5607629491252,
          6.5605788,
          6.524392199999999,
          6.424307000000001,
          6.558786699999999,
          6.575712799999999,
          6.5552368,
          6.635364,
          6.5700093,
          6.4930099,
          6.5291858,
          6.444999399999999,
          6.4378888,
          6.591523,
          6.5736219,
          6.585325200000001,
          6.6071332,
          6.5758167476674725,
          6.547962543899195,
          6.6655904,
          6.615051200000001,
          6.5870597,
          6.5179126,
          6.432605499999999,
          6.59648,
          6.588236299999999,
          6.612217900000001,
          6.427043599999999,
          6.4419594,
          6.6380413,
          6.503889999999999,
          6.473221400000001,
          6.5470055,
          6.44013,
          6.44436246503366,
          6.609638500000001,
          6.6373925232339,
          6.530122299999999,
          6.604779199999999,
          6.5962087,
          6.617959399999999,
          6.602300199999965,
          6.4229948,
          6.609138099999999,
          6.6105659,
          6.5719602769265,
          6.6130261,
          6.567757599999999,
          6.5744202,
          6.467396099999999,
          6.525943799999999,
          6.428579,
          6.511258600000001,
          6.6458861,
          6.462727,
          6.6147762,
          6.4594584,
          6.4294103,
          6.4491768,
          6.631208900000001,
          6.429922099999999,
          6.593458999999999,
          6.4358466,
          6.638972799999999,
          6.4512775,
          6.531837700000001,
          6.562431900000001,
          6.5726774,
          6.588540200000001,
          6.6096998,
          6.6316771,
          6.5943206,
          6.441883799999999,
          6.438331900000001,
          6.4436525,
          6.5040385,
          6.5045943,
          6.455097480367616,
          6.506095099999999,
          6.6603366,
          6.5403791,
          6.644454353101336,
          6.575877699999999,
          6.451230700000001,
          6.475137000000001,
          6.5211752,
          6.453612754624351,
          6.593712843832803,
          6.5150627,
          6.5935004,
          6.57444420302095,
          6.583295615151042,
          6.6225818,
          6.5674204,
          6.611254499999999,
          6.446757347407062,
          6.553786100000001,
          6.6177737301688,
          6.6015238,
          6.4788827,
          6.4960066,
          6.4377655,
          6.498515100000001,
          6.4747381,
          6.596057599999998,
          6.6355463,
          6.6072973,
          6.4297276,
          6.565887099999999,
          6.5799182,
          6.5472956,
          6.619225,
          6.4381485,
          6.6512639,
          6.579482199999999,
          6.579968099999999,
          6.614081,
          6.645916100000001,
          6.4534282,
          6.6325555,
          6.4522068,
          6.6511865,
          6.518260400000001,
          6.590329,
          6.5089257,
          6.631685399999999,
          6.4258111,
          6.521057799999999,
          6.4473334,
          6.5474152305614,
          6.4989586,
          6.4452404,
          6.467235297901991,
          6.6335223,
          6.435754699999999,
          6.5431461,
          6.490963499999999,
          6.565903899999999,
          6.500359,
          6.4875853,
          6.516160999999999,
          6.613523199999999,
          6.494349300000001,
          6.559482618418135,
          6.559070599999999,
          6.6381885,
          6.5134847,
          6.548684999999999,
          6.623064699999999,
          6.577774799999999,
          6.43651226609988,
          6.6176839,
          6.458814299999999,
          6.594231100000001,
          6.5777587,
          6.6161267,
          6.526524600000001,
          6.513835399999999,
          6.456851899999999,
          6.611569599999999,
          6.552903300000001,
          6.4898233581134885,
          6.514333499999999,
          6.616883899999999,
          6.5255524,
          6.5561798,
          6.426629799999998,
          6.5240746,
          6.5242309,
          6.5711745,
          6.54873,
          6.5647604,
          6.5048965,
          6.6407286,
          6.6023555,
          6.5758893,
          6.496799047106602,
          6.678465300000001,
          6.618189500000002,
          6.587144320851279,
          6.516386799999999,
          6.5946192,
          6.493787999999999,
          6.521068783483019
         ],
         "legendgroup": "",
         "lon": [
          3.377003799999999,
          3.355051963715076,
          3.3879806,
          3.3665056,
          3.3244477,
          3.3649972,
          3.3842473,
          3.3216203,
          3.3440504,
          3.3805198,
          3.3829452094897,
          3.3839212324255925,
          3.3435062,
          3.2550249,
          3.3651036,
          3.3826331,
          3.3727212,
          3.3586985,
          3.333551899999999,
          3.3974744,
          3.3957738,
          3.3537748,
          3.3412011,
          3.5309404,
          3.3403188,
          3.3793106,
          3.3692509,
          3.3867719,
          3.3701318927405453,
          3.3719588,
          3.2946545,
          3.3609822,
          3.3688811,
          3.3557259,
          3.401939899999999,
          3.3891871,
          3.3741363,
          3.268974,
          3.3529281,
          3.279246715065,
          3.390815721789428,
          3.351418,
          3.2700622,
          3.379454,
          3.3377567,
          3.325909056303516,
          3.3401231,
          3.3223134,
          3.5071693,
          3.3483797,
          3.4705196,
          3.4026145,
          3.3136223,
          3.349999,
          3.4123214,
          3.5409786,
          3.351416099999999,
          3.3543973770352,
          3.358353514729604,
          3.3634257,
          3.3594872,
          3.363222099999999,
          3.3883521,
          3.3861598,
          3.3891098,
          3.3566738,
          3.383098,
          3.3871504,
          3.2836726,
          3.377152399999999,
          3.342303,
          3.336516,
          3.375327883117423,
          3.337267900000001,
          3.3566353,
          3.3752861,
          3.3826972,
          3.3699656,
          3.5530258,
          3.384866799999999,
          3.527539,
          3.335299,
          3.3697129792251133,
          3.390530680923299,
          3.321955,
          3.5558853,
          3.3488024,
          3.5231794,
          3.3597815,
          3.3196162,
          3.3326409,
          3.3804683472166,
          3.524969999999999,
          3.3696602,
          3.337798899999999,
          3.317330999999999,
          3.3942126,
          3.3822419,
          3.3847099,
          3.311569,
          3.3916364,
          3.362168099999999,
          3.3892554,
          3.2782275,
          3.2882471,
          3.3637942,
          3.3688297,
          3.3811795,
          3.3633954,
          3.3457433,
          3.3514986830862568,
          3.3645106,
          3.3769995,
          3.3387269,
          3.3594033,
          3.312762499999999,
          3.3256675,
          3.3108835,
          3.3397489,
          3.3555652,
          3.5031764,
          3.5117174,
          3.3931728,
          3.3644026,
          3.3603849,
          3.3790596,
          3.3911942,
          3.388573199999999,
          3.5119439,
          3.3574769,
          3.3377124,
          3.3802971,
          3.3686924,
          3.3506239,
          3.3859944,
          3.3464455,
          3.3673349,
          3.3762011,
          3.3320358,
          3.3464384,
          3.3514863,
          3.2949932,
          3.3867289,
          3.3674658,
          3.5334371,
          3.2954164,
          3.3160612,
          3.40605,
          3.3981342706860955,
          3.3064723,
          3.5177175,
          3.3564052,
          3.382577,
          3.3583315,
          3.3621873025480795,
          3.335252099999999,
          3.4843654,
          3.357801082150791,
          3.5155123,
          3.3382274,
          3.380264893389864,
          3.3596427,
          3.5657215,
          3.3473148999999864,
          3.3479215,
          3.3186166,
          3.4548113,
          3.3591803,
          3.4046771,
          3.426634899999999,
          3.3903716,
          3.5546352,
          3.3890043733431,
          3.3859675,
          3.4754527,
          3.289488,
          3.3129648,
          3.3770107,
          3.3791667,
          3.4012416,
          3.3860127655576,
          3.3347402,
          3.5441106,
          3.3886489,
          3.339469,
          3.4908296,
          3.302110710460425,
          3.3498990900001218,
          3.3345433,
          3.2716464,
          3.3836594,
          3.3535423,
          3.3577054,
          3.3552219,
          3.34061,
          3.3571629,
          3.475165,
          3.393198699999999,
          3.5433919,
          3.3149118,
          3.3383205,
          3.3717825805751147,
          3.3211348,
          3.3457166,
          3.340958507230578,
          3.3925111,
          3.4506348973011143,
          3.3912519,
          3.2634212,
          3.3386351,
          3.351435200000001,
          3.3927621697006,
          3.529107800000001,
          3.3803104,
          3.2990788,
          3.2842085,
          3.4892523,
          3.3404498,
          3.3624482,
          3.3834623,
          3.3829644,
          3.546545799999999,
          3.3835437,
          3.284335,
          3.3325467,
          3.3339184,
          3.3350074,
          3.367983499999999,
          3.2954279,
          3.3127496,
          3.350018399999999,
          3.3596621,
          3.3395295,
          3.3538948,
          3.3687691116285787,
          3.3235425,
          3.363103477548094,
          3.3548127,
          3.4941251,
          3.371639,
          3.394962,
          3.3540157,
          3.5671556,
          3.3796783,
          3.3501947,
          3.3925217,
          3.3357306,
          3.350376296836028,
          3.3738174,
          3.3778797,
          3.3790481,
          3.3248646,
          3.366301646459256,
          3.3492413,
          3.3820834,
          3.3686401,
          3.343062099999999,
          3.355369043946,
          3.3591779,
          3.346056724403553,
          3.2581741,
          3.3450369,
          3.5502244979288,
          3.4166702,
          3.460675,
          3.3030236,
          3.3023927,
          3.3400133,
          3.4144028,
          3.3287991,
          3.3824904,
          3.368541,
          3.3722143000000244,
          3.3491244999999883,
          3.2336668,
          3.351696099999999,
          3.3866073,
          3.3499756,
          3.4403509,
          3.490394499999999,
          3.5379212,
          3.384575,
          3.2984991,
          3.3313396,
          3.3736623,
          3.2953028,
          3.2039911,
          3.346448,
          3.3983595,
          3.484081199999999,
          3.396287899999999,
          3.3277986,
          3.3582186,
          3.5221527,
          3.3672726,
          3.2636958,
          3.3485151,
          3.363914,
          3.3576921,
          3.4616161,
          3.3835544,
          3.2758131,
          3.3594896,
          3.3411557084022343,
          3.3595799,
          3.3590397,
          3.3197764,
          3.3291238,
          3.401588878436115,
          3.368847199999999,
          3.3091445,
          3.5149416,
          3.3748163,
          3.3798838,
          3.2962455,
          3.3494716,
          3.3888681605458,
          3.3843201,
          3.3698054,
          3.4479872,
          3.3684312,
          3.354765399999999,
          3.3551595,
          3.387264,
          3.3776303,
          3.3653626,
          3.340197,
          3.475024399999999,
          3.4961548,
          3.265915399999999,
          3.3878874,
          3.3516463,
          3.384486,
          3.379722004810532,
          3.3581990609554,
          3.2735682,
          3.37392,
          3.3652983,
          3.3998176,
          3.5547071,
          3.3482992,
          3.3978097,
          3.3502424,
          3.4832607,
          3.5094485,
          3.3191099,
          3.3514423,
          3.303433800000001,
          3.3279173,
          3.4974322,
          3.4021135780996303,
          3.3609644,
          3.3563607931137,
          3.3155537,
          3.3664072,
          3.3554367,
          3.3610106,
          3.395388099999991,
          3.4268455,
          3.3545271,
          3.3207426,
          3.351547804521,
          3.3575889,
          3.3747244,
          3.3718974,
          3.29905,
          3.3573559,
          3.5466275,
          3.3428828,
          3.3510651,
          3.55679,
          3.3820156,
          3.4139689,
          3.4262719,
          3.4902436,
          3.3231464,
          3.4881561,
          3.3629749,
          3.451396,
          3.3801074,
          3.3117652,
          3.3435702,
          3.3334063,
          3.3582441,
          3.3577292,
          3.4075187,
          3.338886,
          3.3914263,
          3.3537498,
          3.4553573,
          3.476798,
          3.3208631,
          3.3489277,
          3.358539868859623,
          3.3759309,
          3.3391321,
          3.3696356,
          3.354451717926964,
          3.396238,
          3.5137221,
          3.5644741,
          3.3809331,
          3.388818547468875,
          3.339637555181981,
          3.3620263,
          3.3862263,
          3.374934434472973,
          3.3535097569704244,
          3.3840773,
          3.3730272,
          3.2966425,
          3.3971506057266376,
          3.3807296,
          3.3783917874098,
          3.350818,
          3.3665178,
          3.379177,
          3.5559747,
          3.3495944,
          3.3824748,
          3.351819,
          3.3575157,
          3.3781856,
          3.425374,
          3.3752927,
          3.3590921,
          3.3313965,
          3.3447943,
          3.4335703,
          3.3706867,
          3.387332100000001,
          3.3477022,
          3.3581124,
          3.377729899999999,
          3.4064617,
          3.373466,
          3.3271116,
          3.3909026,
          3.3843169,
          3.371803,
          3.3702206,
          3.3312684,
          3.440566699999999,
          3.3687226,
          3.5242164,
          3.3667816843199,
          3.3354786,
          3.4270289,
          3.178832838314752,
          3.3615982,
          3.5180234,
          3.290566,
          3.3566354,
          3.3865494,
          3.3763217,
          3.3827219,
          3.3978204,
          3.3821686,
          3.2981569,
          3.368086839637154,
          3.369104699999999,
          3.3420914,
          3.3885141,
          3.378934999999999,
          3.3525147,
          3.3854635,
          3.478474793487891,
          3.299397,
          3.4219309,
          3.401385,
          3.3621536,
          3.362543399999999,
          3.3181938,
          3.3737866,
          3.2750301,
          3.3568509,
          3.324081,
          3.349901031473877,
          3.2649068,
          3.4063494,
          3.3467276,
          3.3826389,
          3.484857399999999,
          3.2478427,
          3.32293,
          3.3643119,
          3.376688,
          3.3701489,
          3.3024543,
          3.3432801,
          3.3713522,
          3.3912084,
          3.3551920615790607,
          3.2750656,
          3.3722925,
          3.3315106205416787,
          3.3116839,
          3.3406488,
          3.3437211,
          3.3687318116457825
         ],
         "marker": {
          "color": [
           4168,
           3360,
           2922,
           2617,
           2130,
           2129,
           2100,
           1987,
           1962,
           1861,
           1859,
           1837,
           1833,
           1815,
           1805,
           1766,
           1766,
           1753,
           1749,
           1698,
           1661,
           1661,
           1649,
           1619,
           1614,
           1609,
           1604,
           1571,
           1533,
           1504,
           1501,
           1465,
           1461,
           1458,
           1454,
           1416,
           1394,
           1391,
           1382,
           1333,
           1317,
           1303,
           1300,
           1298,
           1297,
           1290,
           1286,
           1285,
           1277,
           1267,
           1263,
           1262,
           1260,
           1250,
           1235,
           1234,
           1200,
           1195,
           1180,
           1174,
           1174,
           1174,
           1169,
           1160,
           1158,
           1150,
           1144,
           1133,
           1132,
           1129,
           1128,
           1127,
           1123,
           1121,
           1115,
           1115,
           1108,
           1100,
           1099,
           1086,
           1083,
           1082,
           1081,
           1080,
           1079,
           1065,
           1059,
           1052,
           1050,
           1046,
           1031,
           1030,
           1025,
           1023,
           1011,
           1011,
           1005,
           1001,
           1000,
           1000,
           1000,
           999,
           999,
           999,
           993,
           992,
           991,
           990,
           989,
           984,
           980,
           978,
           971,
           969,
           969,
           963,
           958,
           953,
           950,
           946,
           941,
           939,
           936,
           936,
           934,
           933,
           933,
           927,
           926,
           925,
           921,
           919,
           916,
           914,
           913,
           910,
           908,
           900,
           892,
           889,
           889,
           886,
           886,
           881,
           881,
           879,
           875,
           875,
           873,
           872,
           872,
           872,
           872,
           870,
           864,
           863,
           857,
           851,
           835,
           834,
           834,
           833,
           833,
           828,
           827,
           822,
           820,
           815,
           812,
           811,
           810,
           808,
           806,
           805,
           802,
           800,
           800,
           799,
           796,
           790,
           787,
           786,
           779,
           777,
           775,
           769,
           767,
           764,
           759,
           758,
           758,
           750,
           750,
           750,
           750,
           747,
           747,
           746,
           746,
           744,
           743,
           742,
           741,
           740,
           739,
           739,
           738,
           738,
           737,
           736,
           735,
           735,
           734,
           732,
           731,
           731,
           727,
           726,
           724,
           721,
           720,
           719,
           717,
           717,
           717,
           715,
           709,
           706,
           704,
           704,
           702,
           702,
           702,
           700,
           700,
           700,
           700,
           699,
           695,
           695,
           695,
           686,
           684,
           683,
           678,
           677,
           673,
           673,
           672,
           671,
           671,
           670,
           668,
           668,
           668,
           667,
           666,
           665,
           664,
           664,
           663,
           661,
           660,
           660,
           657,
           657,
           656,
           655,
           655,
           653,
           651,
           651,
           650,
           650,
           650,
           650,
           650,
           649,
           649,
           646,
           644,
           643,
           639,
           638,
           636,
           635,
           633,
           632,
           631,
           629,
           629,
           627,
           627,
           626,
           626,
           625,
           622,
           622,
           622,
           621,
           621,
           621,
           620,
           618,
           617,
           616,
           616,
           614,
           613,
           613,
           613,
           613,
           613,
           612,
           611,
           611,
           611,
           610,
           610,
           610,
           610,
           609,
           609,
           608,
           606,
           605,
           604,
           604,
           601,
           601,
           600,
           600,
           600,
           600,
           598,
           597,
           596,
           596,
           595,
           595,
           594,
           594,
           592,
           591,
           590,
           590,
           587,
           587,
           586,
           585,
           585,
           585,
           585,
           584,
           584,
           582,
           581,
           581,
           580,
           579,
           578,
           578,
           578,
           578,
           576,
           576,
           576,
           574,
           573,
           573,
           572,
           572,
           572,
           571,
           570,
           569,
           568,
           568,
           568,
           568,
           567,
           567,
           566,
           566,
           565,
           564,
           564,
           564,
           564,
           564,
           563,
           562,
           562,
           561,
           561,
           561,
           561,
           560,
           559,
           559,
           559,
           558,
           558,
           556,
           556,
           555,
           554,
           554,
           551,
           550,
           550,
           550,
           550,
           550,
           550,
           550,
           549,
           549,
           547,
           544,
           544,
           544,
           543,
           543,
           542,
           541,
           541,
           541,
           540,
           540,
           539,
           537,
           537,
           536,
           534,
           534,
           533,
           532,
           532,
           532,
           531,
           530,
           530,
           530,
           529,
           528,
           528,
           528,
           527,
           527,
           526,
           525,
           524,
           524,
           523,
           523,
           523,
           522,
           522,
           520,
           519,
           518,
           517,
           516,
           515,
           514,
           513,
           512,
           511,
           510,
           510,
           509,
           508,
           508,
           508,
           507,
           507,
           505,
           505,
           505,
           504,
           504,
           502,
           500,
           500,
           500,
           500,
           500,
           498,
           497,
           496,
           496,
           496,
           496,
           494,
           494,
           494,
           493,
           492,
           490
          ],
          "coloraxis": "coloraxis",
          "size": [
           4168,
           3360,
           2922,
           2617,
           2130,
           2129,
           2100,
           1987,
           1962,
           1861,
           1859,
           1837,
           1833,
           1815,
           1805,
           1766,
           1766,
           1753,
           1749,
           1698,
           1661,
           1661,
           1649,
           1619,
           1614,
           1609,
           1604,
           1571,
           1533,
           1504,
           1501,
           1465,
           1461,
           1458,
           1454,
           1416,
           1394,
           1391,
           1382,
           1333,
           1317,
           1303,
           1300,
           1298,
           1297,
           1290,
           1286,
           1285,
           1277,
           1267,
           1263,
           1262,
           1260,
           1250,
           1235,
           1234,
           1200,
           1195,
           1180,
           1174,
           1174,
           1174,
           1169,
           1160,
           1158,
           1150,
           1144,
           1133,
           1132,
           1129,
           1128,
           1127,
           1123,
           1121,
           1115,
           1115,
           1108,
           1100,
           1099,
           1086,
           1083,
           1082,
           1081,
           1080,
           1079,
           1065,
           1059,
           1052,
           1050,
           1046,
           1031,
           1030,
           1025,
           1023,
           1011,
           1011,
           1005,
           1001,
           1000,
           1000,
           1000,
           999,
           999,
           999,
           993,
           992,
           991,
           990,
           989,
           984,
           980,
           978,
           971,
           969,
           969,
           963,
           958,
           953,
           950,
           946,
           941,
           939,
           936,
           936,
           934,
           933,
           933,
           927,
           926,
           925,
           921,
           919,
           916,
           914,
           913,
           910,
           908,
           900,
           892,
           889,
           889,
           886,
           886,
           881,
           881,
           879,
           875,
           875,
           873,
           872,
           872,
           872,
           872,
           870,
           864,
           863,
           857,
           851,
           835,
           834,
           834,
           833,
           833,
           828,
           827,
           822,
           820,
           815,
           812,
           811,
           810,
           808,
           806,
           805,
           802,
           800,
           800,
           799,
           796,
           790,
           787,
           786,
           779,
           777,
           775,
           769,
           767,
           764,
           759,
           758,
           758,
           750,
           750,
           750,
           750,
           747,
           747,
           746,
           746,
           744,
           743,
           742,
           741,
           740,
           739,
           739,
           738,
           738,
           737,
           736,
           735,
           735,
           734,
           732,
           731,
           731,
           727,
           726,
           724,
           721,
           720,
           719,
           717,
           717,
           717,
           715,
           709,
           706,
           704,
           704,
           702,
           702,
           702,
           700,
           700,
           700,
           700,
           699,
           695,
           695,
           695,
           686,
           684,
           683,
           678,
           677,
           673,
           673,
           672,
           671,
           671,
           670,
           668,
           668,
           668,
           667,
           666,
           665,
           664,
           664,
           663,
           661,
           660,
           660,
           657,
           657,
           656,
           655,
           655,
           653,
           651,
           651,
           650,
           650,
           650,
           650,
           650,
           649,
           649,
           646,
           644,
           643,
           639,
           638,
           636,
           635,
           633,
           632,
           631,
           629,
           629,
           627,
           627,
           626,
           626,
           625,
           622,
           622,
           622,
           621,
           621,
           621,
           620,
           618,
           617,
           616,
           616,
           614,
           613,
           613,
           613,
           613,
           613,
           612,
           611,
           611,
           611,
           610,
           610,
           610,
           610,
           609,
           609,
           608,
           606,
           605,
           604,
           604,
           601,
           601,
           600,
           600,
           600,
           600,
           598,
           597,
           596,
           596,
           595,
           595,
           594,
           594,
           592,
           591,
           590,
           590,
           587,
           587,
           586,
           585,
           585,
           585,
           585,
           584,
           584,
           582,
           581,
           581,
           580,
           579,
           578,
           578,
           578,
           578,
           576,
           576,
           576,
           574,
           573,
           573,
           572,
           572,
           572,
           571,
           570,
           569,
           568,
           568,
           568,
           568,
           567,
           567,
           566,
           566,
           565,
           564,
           564,
           564,
           564,
           564,
           563,
           562,
           562,
           561,
           561,
           561,
           561,
           560,
           559,
           559,
           559,
           558,
           558,
           556,
           556,
           555,
           554,
           554,
           551,
           550,
           550,
           550,
           550,
           550,
           550,
           550,
           549,
           549,
           547,
           544,
           544,
           544,
           543,
           543,
           542,
           541,
           541,
           541,
           540,
           540,
           539,
           537,
           537,
           536,
           534,
           534,
           533,
           532,
           532,
           532,
           531,
           530,
           530,
           530,
           529,
           528,
           528,
           528,
           527,
           527,
           526,
           525,
           524,
           524,
           523,
           523,
           523,
           522,
           522,
           520,
           519,
           518,
           517,
           516,
           515,
           514,
           513,
           512,
           511,
           510,
           510,
           509,
           508,
           508,
           508,
           507,
           507,
           505,
           505,
           505,
           504,
           504,
           502,
           500,
           500,
           500,
           500,
           500,
           498,
           497,
           496,
           496,
           496,
           496,
           494,
           494,
           494,
           493,
           492,
           490
          ],
          "sizemode": "area",
          "sizeref": 10.42
         },
         "mode": "markers",
         "name": "",
         "showlegend": false,
         "subplot": "mapbox",
         "type": "scattermapbox"
        }
       ],
       "layout": {
        "coloraxis": {
         "colorbar": {
          "title": {
           "text": "Count"
          }
         },
         "colorscale": [
          [
           0,
           "#0d0887"
          ],
          [
           0.1111111111111111,
           "#46039f"
          ],
          [
           0.2222222222222222,
           "#7201a8"
          ],
          [
           0.3333333333333333,
           "#9c179e"
          ],
          [
           0.4444444444444444,
           "#bd3786"
          ],
          [
           0.5555555555555556,
           "#d8576b"
          ],
          [
           0.6666666666666666,
           "#ed7953"
          ],
          [
           0.7777777777777778,
           "#fb9f3a"
          ],
          [
           0.8888888888888888,
           "#fdca26"
          ],
          [
           1,
           "#f0f921"
          ]
         ]
        },
        "height": 600,
        "legend": {
         "itemsizing": "constant",
         "tracegroupgap": 0
        },
        "mapbox": {
         "center": {
          "lat": 6.544504065744784,
          "lon": 3.3738698880849154
         },
         "domain": {
          "x": [
           0,
           1
          ],
          "y": [
           0,
           1
          ]
         },
         "style": "stamen-terrain",
         "zoom": 8
        },
        "margin": {
         "b": 0,
         "l": 0,
         "r": 0,
         "t": 0
        },
        "template": {
         "data": {
          "bar": [
           {
            "error_x": {
             "color": "#2a3f5f"
            },
            "error_y": {
             "color": "#2a3f5f"
            },
            "marker": {
             "line": {
              "color": "#E5ECF6",
              "width": 0.5
             },
             "pattern": {
              "fillmode": "overlay",
              "size": 10,
              "solidity": 0.2
             }
            },
            "type": "bar"
           }
          ],
          "barpolar": [
           {
            "marker": {
             "line": {
              "color": "#E5ECF6",
              "width": 0.5
             },
             "pattern": {
              "fillmode": "overlay",
              "size": 10,
              "solidity": 0.2
             }
            },
            "type": "barpolar"
           }
          ],
          "carpet": [
           {
            "aaxis": {
             "endlinecolor": "#2a3f5f",
             "gridcolor": "white",
             "linecolor": "white",
             "minorgridcolor": "white",
             "startlinecolor": "#2a3f5f"
            },
            "baxis": {
             "endlinecolor": "#2a3f5f",
             "gridcolor": "white",
             "linecolor": "white",
             "minorgridcolor": "white",
             "startlinecolor": "#2a3f5f"
            },
            "type": "carpet"
           }
          ],
          "choropleth": [
           {
            "colorbar": {
             "outlinewidth": 0,
             "ticks": ""
            },
            "type": "choropleth"
           }
          ],
          "contour": [
           {
            "colorbar": {
             "outlinewidth": 0,
             "ticks": ""
            },
            "colorscale": [
             [
              0,
              "#0d0887"
             ],
             [
              0.1111111111111111,
              "#46039f"
             ],
             [
              0.2222222222222222,
              "#7201a8"
             ],
             [
              0.3333333333333333,
              "#9c179e"
             ],
             [
              0.4444444444444444,
              "#bd3786"
             ],
             [
              0.5555555555555556,
              "#d8576b"
             ],
             [
              0.6666666666666666,
              "#ed7953"
             ],
             [
              0.7777777777777778,
              "#fb9f3a"
             ],
             [
              0.8888888888888888,
              "#fdca26"
             ],
             [
              1,
              "#f0f921"
             ]
            ],
            "type": "contour"
           }
          ],
          "contourcarpet": [
           {
            "colorbar": {
             "outlinewidth": 0,
             "ticks": ""
            },
            "type": "contourcarpet"
           }
          ],
          "heatmap": [
           {
            "colorbar": {
             "outlinewidth": 0,
             "ticks": ""
            },
            "colorscale": [
             [
              0,
              "#0d0887"
             ],
             [
              0.1111111111111111,
              "#46039f"
             ],
             [
              0.2222222222222222,
              "#7201a8"
             ],
             [
              0.3333333333333333,
              "#9c179e"
             ],
             [
              0.4444444444444444,
              "#bd3786"
             ],
             [
              0.5555555555555556,
              "#d8576b"
             ],
             [
              0.6666666666666666,
              "#ed7953"
             ],
             [
              0.7777777777777778,
              "#fb9f3a"
             ],
             [
              0.8888888888888888,
              "#fdca26"
             ],
             [
              1,
              "#f0f921"
             ]
            ],
            "type": "heatmap"
           }
          ],
          "heatmapgl": [
           {
            "colorbar": {
             "outlinewidth": 0,
             "ticks": ""
            },
            "colorscale": [
             [
              0,
              "#0d0887"
             ],
             [
              0.1111111111111111,
              "#46039f"
             ],
             [
              0.2222222222222222,
              "#7201a8"
             ],
             [
              0.3333333333333333,
              "#9c179e"
             ],
             [
              0.4444444444444444,
              "#bd3786"
             ],
             [
              0.5555555555555556,
              "#d8576b"
             ],
             [
              0.6666666666666666,
              "#ed7953"
             ],
             [
              0.7777777777777778,
              "#fb9f3a"
             ],
             [
              0.8888888888888888,
              "#fdca26"
             ],
             [
              1,
              "#f0f921"
             ]
            ],
            "type": "heatmapgl"
           }
          ],
          "histogram": [
           {
            "marker": {
             "pattern": {
              "fillmode": "overlay",
              "size": 10,
              "solidity": 0.2
             }
            },
            "type": "histogram"
           }
          ],
          "histogram2d": [
           {
            "colorbar": {
             "outlinewidth": 0,
             "ticks": ""
            },
            "colorscale": [
             [
              0,
              "#0d0887"
             ],
             [
              0.1111111111111111,
              "#46039f"
             ],
             [
              0.2222222222222222,
              "#7201a8"
             ],
             [
              0.3333333333333333,
              "#9c179e"
             ],
             [
              0.4444444444444444,
              "#bd3786"
             ],
             [
              0.5555555555555556,
              "#d8576b"
             ],
             [
              0.6666666666666666,
              "#ed7953"
             ],
             [
              0.7777777777777778,
              "#fb9f3a"
             ],
             [
              0.8888888888888888,
              "#fdca26"
             ],
             [
              1,
              "#f0f921"
             ]
            ],
            "type": "histogram2d"
           }
          ],
          "histogram2dcontour": [
           {
            "colorbar": {
             "outlinewidth": 0,
             "ticks": ""
            },
            "colorscale": [
             [
              0,
              "#0d0887"
             ],
             [
              0.1111111111111111,
              "#46039f"
             ],
             [
              0.2222222222222222,
              "#7201a8"
             ],
             [
              0.3333333333333333,
              "#9c179e"
             ],
             [
              0.4444444444444444,
              "#bd3786"
             ],
             [
              0.5555555555555556,
              "#d8576b"
             ],
             [
              0.6666666666666666,
              "#ed7953"
             ],
             [
              0.7777777777777778,
              "#fb9f3a"
             ],
             [
              0.8888888888888888,
              "#fdca26"
             ],
             [
              1,
              "#f0f921"
             ]
            ],
            "type": "histogram2dcontour"
           }
          ],
          "mesh3d": [
           {
            "colorbar": {
             "outlinewidth": 0,
             "ticks": ""
            },
            "type": "mesh3d"
           }
          ],
          "parcoords": [
           {
            "line": {
             "colorbar": {
              "outlinewidth": 0,
              "ticks": ""
             }
            },
            "type": "parcoords"
           }
          ],
          "pie": [
           {
            "automargin": true,
            "type": "pie"
           }
          ],
          "scatter": [
           {
            "fillpattern": {
             "fillmode": "overlay",
             "size": 10,
             "solidity": 0.2
            },
            "type": "scatter"
           }
          ],
          "scatter3d": [
           {
            "line": {
             "colorbar": {
              "outlinewidth": 0,
              "ticks": ""
             }
            },
            "marker": {
             "colorbar": {
              "outlinewidth": 0,
              "ticks": ""
             }
            },
            "type": "scatter3d"
           }
          ],
          "scattercarpet": [
           {
            "marker": {
             "colorbar": {
              "outlinewidth": 0,
              "ticks": ""
             }
            },
            "type": "scattercarpet"
           }
          ],
          "scattergeo": [
           {
            "marker": {
             "colorbar": {
              "outlinewidth": 0,
              "ticks": ""
             }
            },
            "type": "scattergeo"
           }
          ],
          "scattergl": [
           {
            "marker": {
             "colorbar": {
              "outlinewidth": 0,
              "ticks": ""
             }
            },
            "type": "scattergl"
           }
          ],
          "scattermapbox": [
           {
            "marker": {
             "colorbar": {
              "outlinewidth": 0,
              "ticks": ""
             }
            },
            "type": "scattermapbox"
           }
          ],
          "scatterpolar": [
           {
            "marker": {
             "colorbar": {
              "outlinewidth": 0,
              "ticks": ""
             }
            },
            "type": "scatterpolar"
           }
          ],
          "scatterpolargl": [
           {
            "marker": {
             "colorbar": {
              "outlinewidth": 0,
              "ticks": ""
             }
            },
            "type": "scatterpolargl"
           }
          ],
          "scatterternary": [
           {
            "marker": {
             "colorbar": {
              "outlinewidth": 0,
              "ticks": ""
             }
            },
            "type": "scatterternary"
           }
          ],
          "surface": [
           {
            "colorbar": {
             "outlinewidth": 0,
             "ticks": ""
            },
            "colorscale": [
             [
              0,
              "#0d0887"
             ],
             [
              0.1111111111111111,
              "#46039f"
             ],
             [
              0.2222222222222222,
              "#7201a8"
             ],
             [
              0.3333333333333333,
              "#9c179e"
             ],
             [
              0.4444444444444444,
              "#bd3786"
             ],
             [
              0.5555555555555556,
              "#d8576b"
             ],
             [
              0.6666666666666666,
              "#ed7953"
             ],
             [
              0.7777777777777778,
              "#fb9f3a"
             ],
             [
              0.8888888888888888,
              "#fdca26"
             ],
             [
              1,
              "#f0f921"
             ]
            ],
            "type": "surface"
           }
          ],
          "table": [
           {
            "cells": {
             "fill": {
              "color": "#EBF0F8"
             },
             "line": {
              "color": "white"
             }
            },
            "header": {
             "fill": {
              "color": "#C8D4E3"
             },
             "line": {
              "color": "white"
             }
            },
            "type": "table"
           }
          ]
         },
         "layout": {
          "annotationdefaults": {
           "arrowcolor": "#2a3f5f",
           "arrowhead": 0,
           "arrowwidth": 1
          },
          "autotypenumbers": "strict",
          "coloraxis": {
           "colorbar": {
            "outlinewidth": 0,
            "ticks": ""
           }
          },
          "colorscale": {
           "diverging": [
            [
             0,
             "#8e0152"
            ],
            [
             0.1,
             "#c51b7d"
            ],
            [
             0.2,
             "#de77ae"
            ],
            [
             0.3,
             "#f1b6da"
            ],
            [
             0.4,
             "#fde0ef"
            ],
            [
             0.5,
             "#f7f7f7"
            ],
            [
             0.6,
             "#e6f5d0"
            ],
            [
             0.7,
             "#b8e186"
            ],
            [
             0.8,
             "#7fbc41"
            ],
            [
             0.9,
             "#4d9221"
            ],
            [
             1,
             "#276419"
            ]
           ],
           "sequential": [
            [
             0,
             "#0d0887"
            ],
            [
             0.1111111111111111,
             "#46039f"
            ],
            [
             0.2222222222222222,
             "#7201a8"
            ],
            [
             0.3333333333333333,
             "#9c179e"
            ],
            [
             0.4444444444444444,
             "#bd3786"
            ],
            [
             0.5555555555555556,
             "#d8576b"
            ],
            [
             0.6666666666666666,
             "#ed7953"
            ],
            [
             0.7777777777777778,
             "#fb9f3a"
            ],
            [
             0.8888888888888888,
             "#fdca26"
            ],
            [
             1,
             "#f0f921"
            ]
           ],
           "sequentialminus": [
            [
             0,
             "#0d0887"
            ],
            [
             0.1111111111111111,
             "#46039f"
            ],
            [
             0.2222222222222222,
             "#7201a8"
            ],
            [
             0.3333333333333333,
             "#9c179e"
            ],
            [
             0.4444444444444444,
             "#bd3786"
            ],
            [
             0.5555555555555556,
             "#d8576b"
            ],
            [
             0.6666666666666666,
             "#ed7953"
            ],
            [
             0.7777777777777778,
             "#fb9f3a"
            ],
            [
             0.8888888888888888,
             "#fdca26"
            ],
            [
             1,
             "#f0f921"
            ]
           ]
          },
          "colorway": [
           "#636efa",
           "#EF553B",
           "#00cc96",
           "#ab63fa",
           "#FFA15A",
           "#19d3f3",
           "#FF6692",
           "#B6E880",
           "#FF97FF",
           "#FECB52"
          ],
          "font": {
           "color": "#2a3f5f"
          },
          "geo": {
           "bgcolor": "white",
           "lakecolor": "white",
           "landcolor": "#E5ECF6",
           "showlakes": true,
           "showland": true,
           "subunitcolor": "white"
          },
          "hoverlabel": {
           "align": "left"
          },
          "hovermode": "closest",
          "mapbox": {
           "style": "light"
          },
          "paper_bgcolor": "white",
          "plot_bgcolor": "#E5ECF6",
          "polar": {
           "angularaxis": {
            "gridcolor": "white",
            "linecolor": "white",
            "ticks": ""
           },
           "bgcolor": "#E5ECF6",
           "radialaxis": {
            "gridcolor": "white",
            "linecolor": "white",
            "ticks": ""
           }
          },
          "scene": {
           "xaxis": {
            "backgroundcolor": "#E5ECF6",
            "gridcolor": "white",
            "gridwidth": 2,
            "linecolor": "white",
            "showbackground": true,
            "ticks": "",
            "zerolinecolor": "white"
           },
           "yaxis": {
            "backgroundcolor": "#E5ECF6",
            "gridcolor": "white",
            "gridwidth": 2,
            "linecolor": "white",
            "showbackground": true,
            "ticks": "",
            "zerolinecolor": "white"
           },
           "zaxis": {
            "backgroundcolor": "#E5ECF6",
            "gridcolor": "white",
            "gridwidth": 2,
            "linecolor": "white",
            "showbackground": true,
            "ticks": "",
            "zerolinecolor": "white"
           }
          },
          "shapedefaults": {
           "line": {
            "color": "#2a3f5f"
           }
          },
          "ternary": {
           "aaxis": {
            "gridcolor": "white",
            "linecolor": "white",
            "ticks": ""
           },
           "baxis": {
            "gridcolor": "white",
            "linecolor": "white",
            "ticks": ""
           },
           "bgcolor": "#E5ECF6",
           "caxis": {
            "gridcolor": "white",
            "linecolor": "white",
            "ticks": ""
           }
          },
          "title": {
           "x": 0.05
          },
          "xaxis": {
           "automargin": true,
           "gridcolor": "white",
           "linecolor": "white",
           "ticks": "",
           "title": {
            "standoff": 15
           },
           "zerolinecolor": "white",
           "zerolinewidth": 2
          },
          "yaxis": {
           "automargin": true,
           "gridcolor": "white",
           "linecolor": "white",
           "ticks": "",
           "title": {
            "standoff": 15
           },
           "zerolinecolor": "white",
           "zerolinewidth": 2
          }
         }
        }
       }
      }
     },
     "metadata": {},
     "output_type": "display_data"
    }
   ],
   "source": [
    "fig = px.scatter_mapbox(df_trip_dest.head(500),lat='Trip_Destination_lat',\n",
    "                lon='Trip_Destination_lng',\n",
    "                 hover_name=\"Count\",\n",
    "                 color=\"Count\",\n",
    "                 height=600,size=\"Count\")\n",
    "\n",
    "fig.update_layout(mapbox_style=\"stamen-terrain\")\n",
    "fig.update_layout(margin={\"r\":0,\"t\":0,\"l\":0,\"b\":0})\n",
    "\n",
    "fig.show()"
   ]
  },
  {
   "cell_type": "code",
   "execution_count": 34,
   "metadata": {},
   "outputs": [],
   "source": [
    "sample_df= df.sample(500)"
   ]
  },
  {
   "cell_type": "code",
   "execution_count": 62,
   "metadata": {},
   "outputs": [
    {
     "data": {
      "text/plain": [
       "order_id                  int64\n",
       "driver_id                 int64\n",
       "driver_action             int64\n",
       "lat                     float64\n",
       "lng                     float64\n",
       "Trip Start Time           int64\n",
       "Trip End Time             int64\n",
       "Date                      int64\n",
       "Year                      int64\n",
       "Month                     int64\n",
       "Day                       int64\n",
       "WeekOfYear                int64\n",
       "Day of Week               int64\n",
       "Is Weekend                int64\n",
       "dayofweek                 int64\n",
       "Duration_Minutes        float64\n",
       "Trip_Origin_lat         float64\n",
       "Trip_Origin_lng         float64\n",
       "Trip_Destination_lat    float64\n",
       "Trip_Destination_lng    float64\n",
       "Distance                float64\n",
       "hour                      int64\n",
       "fulfilled                 int64\n",
       "dtype: object"
      ]
     },
     "execution_count": 62,
     "metadata": {},
     "output_type": "execute_result"
    }
   ],
   "source": [
    "sample_df.dtypes"
   ]
  },
  {
   "cell_type": "markdown",
   "metadata": {},
   "source": []
  },
  {
   "cell_type": "code",
   "execution_count": 41,
   "metadata": {},
   "outputs": [],
   "source": [
    "sm = from_pandas(sample_df)"
   ]
  },
  {
   "cell_type": "code",
   "execution_count": 42,
   "metadata": {},
   "outputs": [
    {
     "data": {
      "text/plain": [
       "OutEdgeView([('order_id', 'driver_id'), ('order_id', 'driver_action'), ('order_id', 'lat'), ('order_id', 'lng'), ('order_id', 'Trip Start Time'), ('order_id', 'Trip End Time'), ('order_id', 'Date'), ('order_id', 'Year'), ('order_id', 'Month'), ('order_id', 'Day'), ('order_id', 'WeekOfYear'), ('order_id', 'Day of Week'), ('order_id', 'Is Weekend'), ('order_id', 'dayofweek'), ('order_id', 'Duration_Minutes'), ('order_id', 'Trip_Origin_lat'), ('order_id', 'Trip_Origin_lng'), ('order_id', 'Trip_Destination_lat'), ('order_id', 'Trip_Destination_lng'), ('order_id', 'Distance'), ('order_id', 'hour'), ('order_id', 'fulfilled'), ('driver_id', 'order_id'), ('driver_id', 'driver_action'), ('driver_id', 'lat'), ('driver_id', 'lng'), ('driver_id', 'Trip Start Time'), ('driver_id', 'Trip End Time'), ('driver_id', 'Date'), ('driver_id', 'Year'), ('driver_id', 'Month'), ('driver_id', 'Day'), ('driver_id', 'WeekOfYear'), ('driver_id', 'Day of Week'), ('driver_id', 'Is Weekend'), ('driver_id', 'dayofweek'), ('driver_id', 'Duration_Minutes'), ('driver_id', 'Trip_Origin_lat'), ('driver_id', 'Trip_Origin_lng'), ('driver_id', 'Trip_Destination_lat'), ('driver_id', 'Trip_Destination_lng'), ('driver_id', 'Distance'), ('driver_id', 'hour'), ('driver_id', 'fulfilled'), ('driver_action', 'order_id'), ('driver_action', 'driver_id'), ('driver_action', 'lat'), ('driver_action', 'lng'), ('driver_action', 'Trip Start Time'), ('driver_action', 'Trip End Time'), ('driver_action', 'Date'), ('driver_action', 'Year'), ('driver_action', 'Month'), ('driver_action', 'Day'), ('driver_action', 'WeekOfYear'), ('driver_action', 'Day of Week'), ('driver_action', 'Is Weekend'), ('driver_action', 'dayofweek'), ('driver_action', 'Duration_Minutes'), ('driver_action', 'Trip_Origin_lat'), ('driver_action', 'Trip_Origin_lng'), ('driver_action', 'Trip_Destination_lat'), ('driver_action', 'Trip_Destination_lng'), ('driver_action', 'Distance'), ('driver_action', 'hour'), ('driver_action', 'fulfilled'), ('lat', 'order_id'), ('lat', 'driver_id'), ('lat', 'driver_action'), ('lat', 'lng'), ('lat', 'Trip Start Time'), ('lat', 'Trip End Time'), ('lat', 'Date'), ('lat', 'Year'), ('lat', 'Month'), ('lat', 'Day'), ('lat', 'WeekOfYear'), ('lat', 'Day of Week'), ('lat', 'Is Weekend'), ('lat', 'dayofweek'), ('lat', 'Duration_Minutes'), ('lat', 'Trip_Origin_lat'), ('lat', 'Trip_Origin_lng'), ('lat', 'Trip_Destination_lat'), ('lat', 'Trip_Destination_lng'), ('lat', 'Distance'), ('lat', 'hour'), ('lat', 'fulfilled'), ('lng', 'order_id'), ('lng', 'driver_id'), ('lng', 'driver_action'), ('lng', 'lat'), ('lng', 'Trip Start Time'), ('lng', 'Trip End Time'), ('lng', 'Date'), ('lng', 'Year'), ('lng', 'Month'), ('lng', 'Day'), ('lng', 'WeekOfYear'), ('lng', 'Day of Week'), ('lng', 'Is Weekend'), ('lng', 'dayofweek'), ('lng', 'Duration_Minutes'), ('lng', 'Trip_Origin_lat'), ('lng', 'Trip_Origin_lng'), ('lng', 'Trip_Destination_lat'), ('lng', 'Trip_Destination_lng'), ('lng', 'Distance'), ('lng', 'hour'), ('lng', 'fulfilled'), ('Trip Start Time', 'order_id'), ('Trip Start Time', 'driver_id'), ('Trip Start Time', 'driver_action'), ('Trip Start Time', 'lat'), ('Trip Start Time', 'lng'), ('Trip Start Time', 'Trip End Time'), ('Trip Start Time', 'Date'), ('Trip Start Time', 'Year'), ('Trip Start Time', 'Month'), ('Trip Start Time', 'Day'), ('Trip Start Time', 'WeekOfYear'), ('Trip Start Time', 'Day of Week'), ('Trip Start Time', 'Is Weekend'), ('Trip Start Time', 'dayofweek'), ('Trip Start Time', 'Duration_Minutes'), ('Trip Start Time', 'Trip_Origin_lat'), ('Trip Start Time', 'Trip_Origin_lng'), ('Trip Start Time', 'Trip_Destination_lat'), ('Trip Start Time', 'Trip_Destination_lng'), ('Trip Start Time', 'Distance'), ('Trip Start Time', 'hour'), ('Trip Start Time', 'fulfilled'), ('Trip End Time', 'order_id'), ('Trip End Time', 'driver_id'), ('Trip End Time', 'driver_action'), ('Trip End Time', 'lat'), ('Trip End Time', 'lng'), ('Trip End Time', 'Trip Start Time'), ('Trip End Time', 'Date'), ('Trip End Time', 'Year'), ('Trip End Time', 'Month'), ('Trip End Time', 'Day'), ('Trip End Time', 'WeekOfYear'), ('Trip End Time', 'Day of Week'), ('Trip End Time', 'Is Weekend'), ('Trip End Time', 'dayofweek'), ('Trip End Time', 'Duration_Minutes'), ('Trip End Time', 'Trip_Origin_lat'), ('Trip End Time', 'Trip_Origin_lng'), ('Trip End Time', 'Trip_Destination_lat'), ('Trip End Time', 'Trip_Destination_lng'), ('Trip End Time', 'Distance'), ('Trip End Time', 'hour'), ('Trip End Time', 'fulfilled'), ('Date', 'order_id'), ('Date', 'driver_id'), ('Date', 'driver_action'), ('Date', 'lat'), ('Date', 'lng'), ('Date', 'Trip Start Time'), ('Date', 'Trip End Time'), ('Date', 'Year'), ('Date', 'Month'), ('Date', 'Day'), ('Date', 'WeekOfYear'), ('Date', 'Day of Week'), ('Date', 'Is Weekend'), ('Date', 'dayofweek'), ('Date', 'Duration_Minutes'), ('Date', 'Trip_Origin_lat'), ('Date', 'Trip_Origin_lng'), ('Date', 'Trip_Destination_lat'), ('Date', 'Trip_Destination_lng'), ('Date', 'Distance'), ('Date', 'hour'), ('Date', 'fulfilled'), ('Year', 'order_id'), ('Year', 'driver_id'), ('Year', 'driver_action'), ('Year', 'lat'), ('Year', 'lng'), ('Year', 'Trip Start Time'), ('Year', 'Trip End Time'), ('Year', 'Date'), ('Year', 'Month'), ('Year', 'Day'), ('Year', 'WeekOfYear'), ('Year', 'Day of Week'), ('Year', 'Is Weekend'), ('Year', 'dayofweek'), ('Year', 'Duration_Minutes'), ('Year', 'Trip_Origin_lat'), ('Year', 'Trip_Origin_lng'), ('Year', 'Trip_Destination_lat'), ('Year', 'Trip_Destination_lng'), ('Year', 'Distance'), ('Year', 'hour'), ('Year', 'fulfilled'), ('Month', 'order_id'), ('Month', 'driver_id'), ('Month', 'driver_action'), ('Month', 'lat'), ('Month', 'lng'), ('Month', 'Trip Start Time'), ('Month', 'Trip End Time'), ('Month', 'Date'), ('Month', 'Year'), ('Month', 'Day'), ('Month', 'WeekOfYear'), ('Month', 'Day of Week'), ('Month', 'Is Weekend'), ('Month', 'dayofweek'), ('Month', 'Duration_Minutes'), ('Month', 'Trip_Origin_lat'), ('Month', 'Trip_Origin_lng'), ('Month', 'Trip_Destination_lat'), ('Month', 'Trip_Destination_lng'), ('Month', 'Distance'), ('Month', 'hour'), ('Month', 'fulfilled'), ('Day', 'order_id'), ('Day', 'driver_id'), ('Day', 'driver_action'), ('Day', 'lat'), ('Day', 'lng'), ('Day', 'Trip Start Time'), ('Day', 'Trip End Time'), ('Day', 'Date'), ('Day', 'Year'), ('Day', 'Month'), ('Day', 'WeekOfYear'), ('Day', 'Day of Week'), ('Day', 'Is Weekend'), ('Day', 'dayofweek'), ('Day', 'Duration_Minutes'), ('Day', 'Trip_Origin_lat'), ('Day', 'Trip_Origin_lng'), ('Day', 'Trip_Destination_lat'), ('Day', 'Trip_Destination_lng'), ('Day', 'Distance'), ('Day', 'hour'), ('Day', 'fulfilled'), ('WeekOfYear', 'order_id'), ('WeekOfYear', 'driver_id'), ('WeekOfYear', 'driver_action'), ('WeekOfYear', 'lat'), ('WeekOfYear', 'lng'), ('WeekOfYear', 'Trip Start Time'), ('WeekOfYear', 'Trip End Time'), ('WeekOfYear', 'Date'), ('WeekOfYear', 'Year'), ('WeekOfYear', 'Month'), ('WeekOfYear', 'Day'), ('WeekOfYear', 'Day of Week'), ('WeekOfYear', 'Is Weekend'), ('WeekOfYear', 'dayofweek'), ('WeekOfYear', 'Duration_Minutes'), ('WeekOfYear', 'Trip_Origin_lat'), ('WeekOfYear', 'Trip_Origin_lng'), ('WeekOfYear', 'Trip_Destination_lat'), ('WeekOfYear', 'Trip_Destination_lng'), ('WeekOfYear', 'Distance'), ('WeekOfYear', 'hour'), ('WeekOfYear', 'fulfilled'), ('Day of Week', 'order_id'), ('Day of Week', 'driver_id'), ('Day of Week', 'driver_action'), ('Day of Week', 'lat'), ('Day of Week', 'lng'), ('Day of Week', 'Trip Start Time'), ('Day of Week', 'Trip End Time'), ('Day of Week', 'Date'), ('Day of Week', 'Year'), ('Day of Week', 'Month'), ('Day of Week', 'Day'), ('Day of Week', 'WeekOfYear'), ('Day of Week', 'Is Weekend'), ('Day of Week', 'dayofweek'), ('Day of Week', 'Duration_Minutes'), ('Day of Week', 'Trip_Origin_lat'), ('Day of Week', 'Trip_Origin_lng'), ('Day of Week', 'Trip_Destination_lat'), ('Day of Week', 'Trip_Destination_lng'), ('Day of Week', 'Distance'), ('Day of Week', 'hour'), ('Day of Week', 'fulfilled'), ('Is Weekend', 'order_id'), ('Is Weekend', 'driver_id'), ('Is Weekend', 'driver_action'), ('Is Weekend', 'lat'), ('Is Weekend', 'lng'), ('Is Weekend', 'Trip Start Time'), ('Is Weekend', 'Trip End Time'), ('Is Weekend', 'Date'), ('Is Weekend', 'Year'), ('Is Weekend', 'Month'), ('Is Weekend', 'Day'), ('Is Weekend', 'WeekOfYear'), ('Is Weekend', 'Day of Week'), ('Is Weekend', 'dayofweek'), ('Is Weekend', 'Duration_Minutes'), ('Is Weekend', 'Trip_Origin_lat'), ('Is Weekend', 'Trip_Origin_lng'), ('Is Weekend', 'Trip_Destination_lat'), ('Is Weekend', 'Trip_Destination_lng'), ('Is Weekend', 'Distance'), ('Is Weekend', 'hour'), ('Is Weekend', 'fulfilled'), ('dayofweek', 'order_id'), ('dayofweek', 'driver_id'), ('dayofweek', 'driver_action'), ('dayofweek', 'lat'), ('dayofweek', 'lng'), ('dayofweek', 'Trip Start Time'), ('dayofweek', 'Trip End Time'), ('dayofweek', 'Date'), ('dayofweek', 'Year'), ('dayofweek', 'Month'), ('dayofweek', 'Day'), ('dayofweek', 'WeekOfYear'), ('dayofweek', 'Day of Week'), ('dayofweek', 'Is Weekend'), ('dayofweek', 'Duration_Minutes'), ('dayofweek', 'Trip_Origin_lat'), ('dayofweek', 'Trip_Origin_lng'), ('dayofweek', 'Trip_Destination_lat'), ('dayofweek', 'Trip_Destination_lng'), ('dayofweek', 'Distance'), ('dayofweek', 'hour'), ('dayofweek', 'fulfilled'), ('Duration_Minutes', 'order_id'), ('Duration_Minutes', 'driver_id'), ('Duration_Minutes', 'driver_action'), ('Duration_Minutes', 'lat'), ('Duration_Minutes', 'lng'), ('Duration_Minutes', 'Trip Start Time'), ('Duration_Minutes', 'Trip End Time'), ('Duration_Minutes', 'Date'), ('Duration_Minutes', 'Year'), ('Duration_Minutes', 'Month'), ('Duration_Minutes', 'Day'), ('Duration_Minutes', 'WeekOfYear'), ('Duration_Minutes', 'Day of Week'), ('Duration_Minutes', 'Is Weekend'), ('Duration_Minutes', 'dayofweek'), ('Duration_Minutes', 'Trip_Origin_lat'), ('Duration_Minutes', 'Trip_Origin_lng'), ('Duration_Minutes', 'Trip_Destination_lat'), ('Duration_Minutes', 'Trip_Destination_lng'), ('Duration_Minutes', 'Distance'), ('Duration_Minutes', 'hour'), ('Duration_Minutes', 'fulfilled'), ('Trip_Origin_lat', 'order_id'), ('Trip_Origin_lat', 'driver_id'), ('Trip_Origin_lat', 'driver_action'), ('Trip_Origin_lat', 'lat'), ('Trip_Origin_lat', 'lng'), ('Trip_Origin_lat', 'Trip Start Time'), ('Trip_Origin_lat', 'Trip End Time'), ('Trip_Origin_lat', 'Date'), ('Trip_Origin_lat', 'Year'), ('Trip_Origin_lat', 'Month'), ('Trip_Origin_lat', 'Day'), ('Trip_Origin_lat', 'WeekOfYear'), ('Trip_Origin_lat', 'Day of Week'), ('Trip_Origin_lat', 'Is Weekend'), ('Trip_Origin_lat', 'dayofweek'), ('Trip_Origin_lat', 'Duration_Minutes'), ('Trip_Origin_lat', 'Trip_Origin_lng'), ('Trip_Origin_lat', 'Trip_Destination_lat'), ('Trip_Origin_lat', 'Trip_Destination_lng'), ('Trip_Origin_lat', 'Distance'), ('Trip_Origin_lat', 'hour'), ('Trip_Origin_lat', 'fulfilled'), ('Trip_Origin_lng', 'order_id'), ('Trip_Origin_lng', 'driver_id'), ('Trip_Origin_lng', 'driver_action'), ('Trip_Origin_lng', 'lat'), ('Trip_Origin_lng', 'lng'), ('Trip_Origin_lng', 'Trip Start Time'), ('Trip_Origin_lng', 'Trip End Time'), ('Trip_Origin_lng', 'Date'), ('Trip_Origin_lng', 'Year'), ('Trip_Origin_lng', 'Month'), ('Trip_Origin_lng', 'Day'), ('Trip_Origin_lng', 'WeekOfYear'), ('Trip_Origin_lng', 'Day of Week'), ('Trip_Origin_lng', 'Is Weekend'), ('Trip_Origin_lng', 'dayofweek'), ('Trip_Origin_lng', 'Duration_Minutes'), ('Trip_Origin_lng', 'Trip_Origin_lat'), ('Trip_Origin_lng', 'Trip_Destination_lat'), ('Trip_Origin_lng', 'Trip_Destination_lng'), ('Trip_Origin_lng', 'Distance'), ('Trip_Origin_lng', 'hour'), ('Trip_Origin_lng', 'fulfilled'), ('Trip_Destination_lat', 'order_id'), ('Trip_Destination_lat', 'driver_id'), ('Trip_Destination_lat', 'driver_action'), ('Trip_Destination_lat', 'lat'), ('Trip_Destination_lat', 'lng'), ('Trip_Destination_lat', 'Trip Start Time'), ('Trip_Destination_lat', 'Trip End Time'), ('Trip_Destination_lat', 'Date'), ('Trip_Destination_lat', 'Year'), ('Trip_Destination_lat', 'Month'), ('Trip_Destination_lat', 'Day'), ('Trip_Destination_lat', 'WeekOfYear'), ('Trip_Destination_lat', 'Day of Week'), ('Trip_Destination_lat', 'Is Weekend'), ('Trip_Destination_lat', 'dayofweek'), ('Trip_Destination_lat', 'Duration_Minutes'), ('Trip_Destination_lat', 'Trip_Origin_lat'), ('Trip_Destination_lat', 'Trip_Origin_lng'), ('Trip_Destination_lat', 'Trip_Destination_lng'), ('Trip_Destination_lat', 'Distance'), ('Trip_Destination_lat', 'hour'), ('Trip_Destination_lat', 'fulfilled'), ('Trip_Destination_lng', 'order_id'), ('Trip_Destination_lng', 'driver_id'), ('Trip_Destination_lng', 'driver_action'), ('Trip_Destination_lng', 'lat'), ('Trip_Destination_lng', 'lng'), ('Trip_Destination_lng', 'Trip Start Time'), ('Trip_Destination_lng', 'Trip End Time'), ('Trip_Destination_lng', 'Date'), ('Trip_Destination_lng', 'Year'), ('Trip_Destination_lng', 'Month'), ('Trip_Destination_lng', 'Day'), ('Trip_Destination_lng', 'WeekOfYear'), ('Trip_Destination_lng', 'Day of Week'), ('Trip_Destination_lng', 'Is Weekend'), ('Trip_Destination_lng', 'dayofweek'), ('Trip_Destination_lng', 'Duration_Minutes'), ('Trip_Destination_lng', 'Trip_Origin_lat'), ('Trip_Destination_lng', 'Trip_Origin_lng'), ('Trip_Destination_lng', 'Trip_Destination_lat'), ('Trip_Destination_lng', 'Distance'), ('Trip_Destination_lng', 'hour'), ('Trip_Destination_lng', 'fulfilled'), ('Distance', 'order_id'), ('Distance', 'driver_id'), ('Distance', 'driver_action'), ('Distance', 'lat'), ('Distance', 'lng'), ('Distance', 'Trip Start Time'), ('Distance', 'Trip End Time'), ('Distance', 'Date'), ('Distance', 'Year'), ('Distance', 'Month'), ('Distance', 'Day'), ('Distance', 'WeekOfYear'), ('Distance', 'Day of Week'), ('Distance', 'Is Weekend'), ('Distance', 'dayofweek'), ('Distance', 'Duration_Minutes'), ('Distance', 'Trip_Origin_lat'), ('Distance', 'Trip_Origin_lng'), ('Distance', 'Trip_Destination_lat'), ('Distance', 'Trip_Destination_lng'), ('Distance', 'hour'), ('Distance', 'fulfilled'), ('hour', 'order_id'), ('hour', 'driver_id'), ('hour', 'driver_action'), ('hour', 'lat'), ('hour', 'lng'), ('hour', 'Trip Start Time'), ('hour', 'Trip End Time'), ('hour', 'Date'), ('hour', 'Year'), ('hour', 'Month'), ('hour', 'Day'), ('hour', 'WeekOfYear'), ('hour', 'Day of Week'), ('hour', 'Is Weekend'), ('hour', 'dayofweek'), ('hour', 'Duration_Minutes'), ('hour', 'Trip_Origin_lat'), ('hour', 'Trip_Origin_lng'), ('hour', 'Trip_Destination_lat'), ('hour', 'Trip_Destination_lng'), ('hour', 'Distance'), ('hour', 'fulfilled'), ('fulfilled', 'order_id'), ('fulfilled', 'driver_id'), ('fulfilled', 'driver_action'), ('fulfilled', 'lat'), ('fulfilled', 'lng'), ('fulfilled', 'Trip Start Time'), ('fulfilled', 'Trip End Time'), ('fulfilled', 'Date'), ('fulfilled', 'Year'), ('fulfilled', 'Month'), ('fulfilled', 'Day'), ('fulfilled', 'WeekOfYear'), ('fulfilled', 'Day of Week'), ('fulfilled', 'Is Weekend'), ('fulfilled', 'dayofweek'), ('fulfilled', 'Duration_Minutes'), ('fulfilled', 'Trip_Origin_lat'), ('fulfilled', 'Trip_Origin_lng'), ('fulfilled', 'Trip_Destination_lat'), ('fulfilled', 'Trip_Destination_lng'), ('fulfilled', 'Distance'), ('fulfilled', 'hour')])"
      ]
     },
     "execution_count": 42,
     "metadata": {},
     "output_type": "execute_result"
    }
   ],
   "source": [
    "\n",
    "sm.edges"
   ]
  },
  {
   "cell_type": "code",
   "execution_count": 85,
   "metadata": {},
   "outputs": [
    {
     "ename": "Warning",
     "evalue": "\n            Pygraphviz not installed. Also make sure you have the system-level\n            ``graphviz`` requirement installed.\n\n            Alternatively, you can visualise your graph using the networkx.draw\n            functionality:\n            >>> sm = StructureModel()\n            >>> fig, ax = plt.subplots()\n            >>> nx.draw_circular(sm, ax=ax)\n            >>> fig.show()\n            ",
     "output_type": "error",
     "traceback": [
      "\u001b[0;31m---------------------------------------------------------------------------\u001b[0m",
      "\u001b[0;31mModuleNotFoundError\u001b[0m                       Traceback (most recent call last)",
      "File \u001b[0;32m~/miniconda3/envs/10Academy/lib/python3.8/site-packages/networkx/drawing/nx_agraph.py:133\u001b[0m, in \u001b[0;36mto_agraph\u001b[0;34m(N)\u001b[0m\n\u001b[1;32m    132\u001b[0m \u001b[39mtry\u001b[39;00m:\n\u001b[0;32m--> 133\u001b[0m     \u001b[39mimport\u001b[39;00m \u001b[39mpygraphviz\u001b[39;00m\n\u001b[1;32m    134\u001b[0m \u001b[39mexcept\u001b[39;00m \u001b[39mImportError\u001b[39;00m \u001b[39mas\u001b[39;00m err:\n",
      "\u001b[0;31mModuleNotFoundError\u001b[0m: No module named 'pygraphviz'",
      "\nThe above exception was the direct cause of the following exception:\n",
      "\u001b[0;31mImportError\u001b[0m                               Traceback (most recent call last)",
      "File \u001b[0;32m~/miniconda3/envs/10Academy/lib/python3.8/site-packages/causalnex/plots/plots.py:110\u001b[0m, in \u001b[0;36mplot_structure\u001b[0;34m(sm, prog, all_node_attributes, all_edge_attributes, node_attributes, edge_attributes, graph_attributes)\u001b[0m\n\u001b[1;32m    109\u001b[0m \u001b[39mtry\u001b[39;00m:\n\u001b[0;32m--> 110\u001b[0m     a_graph \u001b[39m=\u001b[39m nx\u001b[39m.\u001b[39;49mnx_agraph\u001b[39m.\u001b[39;49mto_agraph(_sm)\n\u001b[1;32m    111\u001b[0m \u001b[39mexcept\u001b[39;00m \u001b[39mImportError\u001b[39;00m \u001b[39mas\u001b[39;00m error_msg:\n",
      "File \u001b[0;32m~/miniconda3/envs/10Academy/lib/python3.8/site-packages/networkx/drawing/nx_agraph.py:135\u001b[0m, in \u001b[0;36mto_agraph\u001b[0;34m(N)\u001b[0m\n\u001b[1;32m    134\u001b[0m \u001b[39mexcept\u001b[39;00m \u001b[39mImportError\u001b[39;00m \u001b[39mas\u001b[39;00m err:\n\u001b[0;32m--> 135\u001b[0m     \u001b[39mraise\u001b[39;00m \u001b[39mImportError\u001b[39;00m(\n\u001b[1;32m    136\u001b[0m         \u001b[39m\"\u001b[39m\u001b[39mrequires pygraphviz \u001b[39m\u001b[39m\"\u001b[39m \u001b[39m\"\u001b[39m\u001b[39mhttp://pygraphviz.github.io/\u001b[39m\u001b[39m\"\u001b[39m\n\u001b[1;32m    137\u001b[0m     ) \u001b[39mfrom\u001b[39;00m \u001b[39merr\u001b[39;00m\n\u001b[1;32m    138\u001b[0m directed \u001b[39m=\u001b[39m N\u001b[39m.\u001b[39mis_directed()\n",
      "\u001b[0;31mImportError\u001b[0m: requires pygraphviz http://pygraphviz.github.io/",
      "\nThe above exception was the direct cause of the following exception:\n",
      "\u001b[0;31mWarning\u001b[0m                                   Traceback (most recent call last)",
      "\u001b[1;32m/Users/apple/Desktop/Causal-Inference-Logistic-optimization/notebooks/causal_inference.ipynb Cell 26\u001b[0m in \u001b[0;36m<cell line: 1>\u001b[0;34m()\u001b[0m\n\u001b[0;32m----> <a href='vscode-notebook-cell:/Users/apple/Desktop/Causal-Inference-Logistic-optimization/notebooks/causal_inference.ipynb#X33sZmlsZQ%3D%3D?line=0'>1</a>\u001b[0m viz \u001b[39m=\u001b[39m plot_structure(\n\u001b[1;32m      <a href='vscode-notebook-cell:/Users/apple/Desktop/Causal-Inference-Logistic-optimization/notebooks/causal_inference.ipynb#X33sZmlsZQ%3D%3D?line=1'>2</a>\u001b[0m     sm,\n\u001b[1;32m      <a href='vscode-notebook-cell:/Users/apple/Desktop/Causal-Inference-Logistic-optimization/notebooks/causal_inference.ipynb#X33sZmlsZQ%3D%3D?line=2'>3</a>\u001b[0m     graph_attributes\u001b[39m=\u001b[39;49m{\u001b[39m\"\u001b[39;49m\u001b[39mscale\u001b[39;49m\u001b[39m\"\u001b[39;49m: \u001b[39m\"\u001b[39;49m\u001b[39m0.5\u001b[39;49m\u001b[39m\"\u001b[39;49m},\n\u001b[1;32m      <a href='vscode-notebook-cell:/Users/apple/Desktop/Causal-Inference-Logistic-optimization/notebooks/causal_inference.ipynb#X33sZmlsZQ%3D%3D?line=3'>4</a>\u001b[0m     all_node_attributes\u001b[39m=\u001b[39;49mNODE_STYLE\u001b[39m.\u001b[39;49mWEAK,\n\u001b[1;32m      <a href='vscode-notebook-cell:/Users/apple/Desktop/Causal-Inference-Logistic-optimization/notebooks/causal_inference.ipynb#X33sZmlsZQ%3D%3D?line=4'>5</a>\u001b[0m     all_edge_attributes\u001b[39m=\u001b[39;49mEDGE_STYLE\u001b[39m.\u001b[39;49mWEAK,\n\u001b[1;32m      <a href='vscode-notebook-cell:/Users/apple/Desktop/Causal-Inference-Logistic-optimization/notebooks/causal_inference.ipynb#X33sZmlsZQ%3D%3D?line=5'>6</a>\u001b[0m     prog\u001b[39m=\u001b[39;49m\u001b[39m'\u001b[39;49m\u001b[39mfdp\u001b[39;49m\u001b[39m'\u001b[39;49m,\n\u001b[1;32m      <a href='vscode-notebook-cell:/Users/apple/Desktop/Causal-Inference-Logistic-optimization/notebooks/causal_inference.ipynb#X33sZmlsZQ%3D%3D?line=6'>7</a>\u001b[0m )\n\u001b[1;32m      <a href='vscode-notebook-cell:/Users/apple/Desktop/Causal-Inference-Logistic-optimization/notebooks/causal_inference.ipynb#X33sZmlsZQ%3D%3D?line=7'>8</a>\u001b[0m Image(viz\u001b[39m.\u001b[39mdraw(\u001b[39mformat\u001b[39m\u001b[39m=\u001b[39m\u001b[39m'\u001b[39m\u001b[39mpng\u001b[39m\u001b[39m'\u001b[39m))\n",
      "File \u001b[0;32m~/miniconda3/envs/10Academy/lib/python3.8/site-packages/causalnex/plots/plots.py:112\u001b[0m, in \u001b[0;36mplot_structure\u001b[0;34m(sm, prog, all_node_attributes, all_edge_attributes, node_attributes, edge_attributes, graph_attributes)\u001b[0m\n\u001b[1;32m    110\u001b[0m     a_graph \u001b[39m=\u001b[39m nx\u001b[39m.\u001b[39mnx_agraph\u001b[39m.\u001b[39mto_agraph(_sm)\n\u001b[1;32m    111\u001b[0m \u001b[39mexcept\u001b[39;00m \u001b[39mImportError\u001b[39;00m \u001b[39mas\u001b[39;00m error_msg:\n\u001b[0;32m--> 112\u001b[0m     \u001b[39mraise\u001b[39;00m \u001b[39mWarning\u001b[39;00m(\n\u001b[1;32m    113\u001b[0m         \u001b[39m\"\"\"\u001b[39;00m\n\u001b[1;32m    114\u001b[0m \u001b[39m        Pygraphviz not installed. Also make sure you have the system-level\u001b[39;00m\n\u001b[1;32m    115\u001b[0m \u001b[39m        ``graphviz`` requirement installed.\u001b[39;00m\n\u001b[1;32m    116\u001b[0m \n\u001b[1;32m    117\u001b[0m \u001b[39m        Alternatively, you can visualise your graph using the networkx.draw\u001b[39;00m\n\u001b[1;32m    118\u001b[0m \u001b[39m        functionality:\u001b[39;00m\n\u001b[1;32m    119\u001b[0m \u001b[39m        >>> sm = StructureModel()\u001b[39;00m\n\u001b[1;32m    120\u001b[0m \u001b[39m        >>> fig, ax = plt.subplots()\u001b[39;00m\n\u001b[1;32m    121\u001b[0m \u001b[39m        >>> nx.draw_circular(sm, ax=ax)\u001b[39;00m\n\u001b[1;32m    122\u001b[0m \u001b[39m        >>> fig.show()\u001b[39;00m\n\u001b[1;32m    123\u001b[0m \u001b[39m        \"\"\"\u001b[39;00m\n\u001b[1;32m    124\u001b[0m     ) \u001b[39mfrom\u001b[39;00m \u001b[39merror_msg\u001b[39;00m\n\u001b[1;32m    126\u001b[0m \u001b[39m# apply graph attributes\u001b[39;00m\n\u001b[1;32m    127\u001b[0m a_graph\u001b[39m.\u001b[39mgraph_attr\u001b[39m.\u001b[39mupdate(GRAPH_STYLE)\n",
      "\u001b[0;31mWarning\u001b[0m: \n            Pygraphviz not installed. Also make sure you have the system-level\n            ``graphviz`` requirement installed.\n\n            Alternatively, you can visualise your graph using the networkx.draw\n            functionality:\n            >>> sm = StructureModel()\n            >>> fig, ax = plt.subplots()\n            >>> nx.draw_circular(sm, ax=ax)\n            >>> fig.show()\n            "
     ]
    }
   ],
   "source": [
    "viz = plot_structure(\n",
    "    sm,\n",
    "    graph_attributes={\"scale\": \"0.5\"},\n",
    "    all_node_attributes=NODE_STYLE.WEAK,\n",
    "    all_edge_attributes=EDGE_STYLE.WEAK,\n",
    "    prog='fdp',\n",
    ")\n",
    "Image(viz.draw(format='png'))"
   ]
  },
  {
   "cell_type": "code",
   "execution_count": null,
   "metadata": {},
   "outputs": [],
   "source": [
    "sm_enh = from_pandas(df, tabu_edges=[(\"distance_diff\",\"driver_loc\")],tabu_parent_nodes=[\"driver_action\"],tabu_child_nodes=[\"date\",\"hour\"], w_threshold=0.7)\n"
   ]
  },
  {
   "cell_type": "code",
   "execution_count": null,
   "metadata": {},
   "outputs": [],
   "source": [
    "viz = plot_structure(\n",
    "    sm_enh,\n",
    "    graph_attributes={\"scale\": \"0.5\"},\n",
    "    all_node_attributes=NODE_STYLE.WEAK,\n",
    "    all_edge_attributes=EDGE_STYLE.WEAK,\n",
    "    prog='fdp'\n",
    ")\n",
    "Image(viz.draw(format='png'))"
   ]
  },
  {
   "cell_type": "code",
   "execution_count": null,
   "metadata": {},
   "outputs": [],
   "source": [
    "sm_enh.add_edge(\"distance_diff\", \"driver_action\")\n",
    "sm_enh.add_edge(\"date\", \"driver_action\")\n",
    "sm_enh.add_edge(\"date\", \"holiday\")\n",
    "sm_enh.add_edge(\"hour\", \"driver_action\")\n",
    "sm_enh.add_edge(\"request_loc\", \"distance_diff\")\n",
    "sm_enh.add_edge(\"driver_loc\", \"distance_diff\")\n",
    "sm_enh.add_edge(\"distance_diff\", \"driver_action\")"
   ]
  },
  {
   "cell_type": "code",
   "execution_count": null,
   "metadata": {},
   "outputs": [],
   "source": [
    "viz = plot_structure(\n",
    "    sm_enh,\n",
    "    graph_attributes={\"scale\": \"0.5\"},\n",
    "    all_node_attributes=NODE_STYLE.WEAK,\n",
    "    all_edge_attributes=EDGE_STYLE.WEAK,\n",
    "    prog='fdp'\n",
    ")\n",
    "Image(viz.draw(format='png'))"
   ]
  }
 ],
 "metadata": {
  "kernelspec": {
   "display_name": "Python 3.8.13 ('10Academy')",
   "language": "python",
   "name": "python3"
  },
  "language_info": {
   "codemirror_mode": {
    "name": "ipython",
    "version": 3
   },
   "file_extension": ".py",
   "mimetype": "text/x-python",
   "name": "python",
   "nbconvert_exporter": "python",
   "pygments_lexer": "ipython3",
   "version": "3.8.13"
  },
  "orig_nbformat": 4,
  "vscode": {
   "interpreter": {
    "hash": "ca740c9aac4751f81a5d505930548dd2ec8dcd8707f5d2333b62b8f546ce33a7"
   }
  }
 },
 "nbformat": 4,
 "nbformat_minor": 2
}
